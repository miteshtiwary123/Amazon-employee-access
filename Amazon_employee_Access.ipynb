{
  "nbformat": 4,
  "nbformat_minor": 0,
  "metadata": {
    "colab": {
      "provenance": [],
      "authorship_tag": "ABX9TyNCPPDBya2B7xydJrzFcqyz",
      "include_colab_link": true
    },
    "kernelspec": {
      "name": "python3",
      "display_name": "Python 3"
    },
    "language_info": {
      "name": "python"
    }
  },
  "cells": [
    {
      "cell_type": "markdown",
      "metadata": {
        "id": "view-in-github",
        "colab_type": "text"
      },
      "source": [
        "<a href=\"https://colab.research.google.com/github/miteshtiwary123/Amazon-employee-access/blob/main/Amazon_employee_Access.ipynb\" target=\"_parent\"><img src=\"https://colab.research.google.com/assets/colab-badge.svg\" alt=\"Open In Colab\"/></a>"
      ]
    },
    {
      "cell_type": "markdown",
      "source": [
        "##Installing pyforest and importing all modules from it.\n",
        "Pyforest has lots of module included inside so we dont need to import them saperately "
      ],
      "metadata": {
        "id": "CXpqqXcotfrU"
      }
    },
    {
      "cell_type": "code",
      "source": [
        "!pip install pyforest"
      ],
      "metadata": {
        "colab": {
          "base_uri": "https://localhost:8080/"
        },
        "id": "hRRpPafPtThc",
        "outputId": "4397a022-9a5f-4980-f921-623b89388ac1"
      },
      "execution_count": 26,
      "outputs": [
        {
          "output_type": "stream",
          "name": "stdout",
          "text": [
            "Looking in indexes: https://pypi.org/simple, https://us-python.pkg.dev/colab-wheels/public/simple/\n",
            "Requirement already satisfied: pyforest in /usr/local/lib/python3.8/dist-packages (1.1.0)\n"
          ]
        }
      ]
    },
    {
      "cell_type": "code",
      "execution_count": 27,
      "metadata": {
        "colab": {
          "base_uri": "https://localhost:8080/"
        },
        "id": "6oXR6k2_sxO7",
        "outputId": "e89e0b81-2826-40a2-8d9e-be57829450a8"
      },
      "outputs": [
        {
          "output_type": "execute_result",
          "data": {
            "text/plain": [
              "['import awswrangler as wr',\n",
              " 'from sklearn import metrics',\n",
              " 'import os',\n",
              " 'from sklearn.impute import SimpleImputer',\n",
              " 'import fbprophet',\n",
              " 'from sklearn.linear_model import Ridge',\n",
              " 'from pyspark import SparkContext',\n",
              " 'from sklearn.preprocessing import RobustScaler',\n",
              " 'import xgboost as xgb',\n",
              " 'import matplotlib as mpl',\n",
              " 'import datetime as dt',\n",
              " 'from sklearn.ensemble import RandomForestClassifier',\n",
              " 'import keras',\n",
              " 'from sklearn.ensemble import RandomForestRegressor',\n",
              " 'import gensim',\n",
              " 'import bokeh',\n",
              " 'from sklearn.model_selection import StratifiedKFold',\n",
              " 'from dask import dataframe as dd',\n",
              " 'import numpy as np',\n",
              " 'from fbprophet import Prophet',\n",
              " 'from sklearn.model_selection import RandomizedSearchCV',\n",
              " 'import plotly.graph_objs as go',\n",
              " 'from xlrd import open_workbook',\n",
              " 'from sklearn.linear_model import RidgeCV',\n",
              " 'import dash',\n",
              " 'import nltk',\n",
              " 'import glob',\n",
              " 'from sklearn.preprocessing import StandardScaler']"
            ]
          },
          "metadata": {},
          "execution_count": 27
        }
      ],
      "source": [
        "from pyforest import*\n",
        "lazy_imports()"
      ]
    },
    {
      "cell_type": "markdown",
      "source": [
        "#CatBoost\n"
      ],
      "metadata": {
        "id": "9Ra5FWzXt-xD"
      }
    },
    {
      "cell_type": "code",
      "source": [
        "!pip install catboost"
      ],
      "metadata": {
        "colab": {
          "base_uri": "https://localhost:8080/"
        },
        "id": "BCR-CP6Gta5B",
        "outputId": "37991fcc-349c-4b8a-877b-bd145a69881e"
      },
      "execution_count": 28,
      "outputs": [
        {
          "output_type": "stream",
          "name": "stdout",
          "text": [
            "Looking in indexes: https://pypi.org/simple, https://us-python.pkg.dev/colab-wheels/public/simple/\n",
            "Requirement already satisfied: catboost in /usr/local/lib/python3.8/dist-packages (1.1.1)\n",
            "Requirement already satisfied: six in /usr/local/lib/python3.8/dist-packages (from catboost) (1.15.0)\n",
            "Requirement already satisfied: numpy>=1.16.0 in /usr/local/lib/python3.8/dist-packages (from catboost) (1.21.6)\n",
            "Requirement already satisfied: plotly in /usr/local/lib/python3.8/dist-packages (from catboost) (5.5.0)\n",
            "Requirement already satisfied: scipy in /usr/local/lib/python3.8/dist-packages (from catboost) (1.7.3)\n",
            "Requirement already satisfied: graphviz in /usr/local/lib/python3.8/dist-packages (from catboost) (0.10.1)\n",
            "Requirement already satisfied: pandas>=0.24.0 in /usr/local/lib/python3.8/dist-packages (from catboost) (1.3.5)\n",
            "Requirement already satisfied: matplotlib in /usr/local/lib/python3.8/dist-packages (from catboost) (3.2.2)\n",
            "Requirement already satisfied: python-dateutil>=2.7.3 in /usr/local/lib/python3.8/dist-packages (from pandas>=0.24.0->catboost) (2.8.2)\n",
            "Requirement already satisfied: pytz>=2017.3 in /usr/local/lib/python3.8/dist-packages (from pandas>=0.24.0->catboost) (2022.7.1)\n",
            "Requirement already satisfied: pyparsing!=2.0.4,!=2.1.2,!=2.1.6,>=2.0.1 in /usr/local/lib/python3.8/dist-packages (from matplotlib->catboost) (3.0.9)\n",
            "Requirement already satisfied: kiwisolver>=1.0.1 in /usr/local/lib/python3.8/dist-packages (from matplotlib->catboost) (1.4.4)\n",
            "Requirement already satisfied: cycler>=0.10 in /usr/local/lib/python3.8/dist-packages (from matplotlib->catboost) (0.11.0)\n",
            "Requirement already satisfied: tenacity>=6.2.0 in /usr/local/lib/python3.8/dist-packages (from plotly->catboost) (8.1.0)\n"
          ]
        }
      ]
    },
    {
      "cell_type": "markdown",
      "source": [
        "###Loading Amazon data from catboost"
      ],
      "metadata": {
        "id": "OOIsORt5uRx0"
      }
    },
    {
      "cell_type": "code",
      "source": [
        "from catboost.datasets import amazon\n",
        "\n",
        "traindf, testdf = amazon()"
      ],
      "metadata": {
        "id": "JJFa9pt4uIrI"
      },
      "execution_count": 29,
      "outputs": []
    },
    {
      "cell_type": "code",
      "source": [
        "traindf.shape"
      ],
      "metadata": {
        "colab": {
          "base_uri": "https://localhost:8080/"
        },
        "id": "UDtFmGyGunwE",
        "outputId": "97773f02-a7a0-4da5-abf0-19e6c23c4291"
      },
      "execution_count": 30,
      "outputs": [
        {
          "output_type": "execute_result",
          "data": {
            "text/plain": [
              "(32769, 10)"
            ]
          },
          "metadata": {},
          "execution_count": 30
        }
      ]
    },
    {
      "cell_type": "code",
      "source": [
        "testdf.shape"
      ],
      "metadata": {
        "colab": {
          "base_uri": "https://localhost:8080/"
        },
        "id": "MVyiP2cHurO_",
        "outputId": "2b6787a6-f8b0-4010-8007-4f97714a2697"
      },
      "execution_count": 31,
      "outputs": [
        {
          "output_type": "execute_result",
          "data": {
            "text/plain": [
              "(58921, 10)"
            ]
          },
          "metadata": {},
          "execution_count": 31
        }
      ]
    },
    {
      "cell_type": "code",
      "source": [
        "traindf.head()"
      ],
      "metadata": {
        "colab": {
          "base_uri": "https://localhost:8080/",
          "height": 204
        },
        "id": "1yBq3EOsutNH",
        "outputId": "7b634e8d-8efd-48a8-caa1-99736f3ce73d"
      },
      "execution_count": 32,
      "outputs": [
        {
          "output_type": "execute_result",
          "data": {
            "text/plain": [
              "   ACTION  RESOURCE  MGR_ID  ...  ROLE_FAMILY_DESC  ROLE_FAMILY  ROLE_CODE\n",
              "0       1     39353   85475  ...            117906       290919     117908\n",
              "1       1     17183    1540  ...            118536       308574     118539\n",
              "2       1     36724   14457  ...            267952        19721     117880\n",
              "3       1     36135    5396  ...            240983       290919     118322\n",
              "4       1     42680    5905  ...            123932        19793     119325\n",
              "\n",
              "[5 rows x 10 columns]"
            ],
            "text/html": [
              "\n",
              "  <div id=\"df-39adf841-419e-45ae-a5ee-3739ea0c492a\">\n",
              "    <div class=\"colab-df-container\">\n",
              "      <div>\n",
              "<style scoped>\n",
              "    .dataframe tbody tr th:only-of-type {\n",
              "        vertical-align: middle;\n",
              "    }\n",
              "\n",
              "    .dataframe tbody tr th {\n",
              "        vertical-align: top;\n",
              "    }\n",
              "\n",
              "    .dataframe thead th {\n",
              "        text-align: right;\n",
              "    }\n",
              "</style>\n",
              "<table border=\"1\" class=\"dataframe\">\n",
              "  <thead>\n",
              "    <tr style=\"text-align: right;\">\n",
              "      <th></th>\n",
              "      <th>ACTION</th>\n",
              "      <th>RESOURCE</th>\n",
              "      <th>MGR_ID</th>\n",
              "      <th>ROLE_ROLLUP_1</th>\n",
              "      <th>ROLE_ROLLUP_2</th>\n",
              "      <th>ROLE_DEPTNAME</th>\n",
              "      <th>ROLE_TITLE</th>\n",
              "      <th>ROLE_FAMILY_DESC</th>\n",
              "      <th>ROLE_FAMILY</th>\n",
              "      <th>ROLE_CODE</th>\n",
              "    </tr>\n",
              "  </thead>\n",
              "  <tbody>\n",
              "    <tr>\n",
              "      <th>0</th>\n",
              "      <td>1</td>\n",
              "      <td>39353</td>\n",
              "      <td>85475</td>\n",
              "      <td>117961</td>\n",
              "      <td>118300</td>\n",
              "      <td>123472</td>\n",
              "      <td>117905</td>\n",
              "      <td>117906</td>\n",
              "      <td>290919</td>\n",
              "      <td>117908</td>\n",
              "    </tr>\n",
              "    <tr>\n",
              "      <th>1</th>\n",
              "      <td>1</td>\n",
              "      <td>17183</td>\n",
              "      <td>1540</td>\n",
              "      <td>117961</td>\n",
              "      <td>118343</td>\n",
              "      <td>123125</td>\n",
              "      <td>118536</td>\n",
              "      <td>118536</td>\n",
              "      <td>308574</td>\n",
              "      <td>118539</td>\n",
              "    </tr>\n",
              "    <tr>\n",
              "      <th>2</th>\n",
              "      <td>1</td>\n",
              "      <td>36724</td>\n",
              "      <td>14457</td>\n",
              "      <td>118219</td>\n",
              "      <td>118220</td>\n",
              "      <td>117884</td>\n",
              "      <td>117879</td>\n",
              "      <td>267952</td>\n",
              "      <td>19721</td>\n",
              "      <td>117880</td>\n",
              "    </tr>\n",
              "    <tr>\n",
              "      <th>3</th>\n",
              "      <td>1</td>\n",
              "      <td>36135</td>\n",
              "      <td>5396</td>\n",
              "      <td>117961</td>\n",
              "      <td>118343</td>\n",
              "      <td>119993</td>\n",
              "      <td>118321</td>\n",
              "      <td>240983</td>\n",
              "      <td>290919</td>\n",
              "      <td>118322</td>\n",
              "    </tr>\n",
              "    <tr>\n",
              "      <th>4</th>\n",
              "      <td>1</td>\n",
              "      <td>42680</td>\n",
              "      <td>5905</td>\n",
              "      <td>117929</td>\n",
              "      <td>117930</td>\n",
              "      <td>119569</td>\n",
              "      <td>119323</td>\n",
              "      <td>123932</td>\n",
              "      <td>19793</td>\n",
              "      <td>119325</td>\n",
              "    </tr>\n",
              "  </tbody>\n",
              "</table>\n",
              "</div>\n",
              "      <button class=\"colab-df-convert\" onclick=\"convertToInteractive('df-39adf841-419e-45ae-a5ee-3739ea0c492a')\"\n",
              "              title=\"Convert this dataframe to an interactive table.\"\n",
              "              style=\"display:none;\">\n",
              "        \n",
              "  <svg xmlns=\"http://www.w3.org/2000/svg\" height=\"24px\"viewBox=\"0 0 24 24\"\n",
              "       width=\"24px\">\n",
              "    <path d=\"M0 0h24v24H0V0z\" fill=\"none\"/>\n",
              "    <path d=\"M18.56 5.44l.94 2.06.94-2.06 2.06-.94-2.06-.94-.94-2.06-.94 2.06-2.06.94zm-11 1L8.5 8.5l.94-2.06 2.06-.94-2.06-.94L8.5 2.5l-.94 2.06-2.06.94zm10 10l.94 2.06.94-2.06 2.06-.94-2.06-.94-.94-2.06-.94 2.06-2.06.94z\"/><path d=\"M17.41 7.96l-1.37-1.37c-.4-.4-.92-.59-1.43-.59-.52 0-1.04.2-1.43.59L10.3 9.45l-7.72 7.72c-.78.78-.78 2.05 0 2.83L4 21.41c.39.39.9.59 1.41.59.51 0 1.02-.2 1.41-.59l7.78-7.78 2.81-2.81c.8-.78.8-2.07 0-2.86zM5.41 20L4 18.59l7.72-7.72 1.47 1.35L5.41 20z\"/>\n",
              "  </svg>\n",
              "      </button>\n",
              "      \n",
              "  <style>\n",
              "    .colab-df-container {\n",
              "      display:flex;\n",
              "      flex-wrap:wrap;\n",
              "      gap: 12px;\n",
              "    }\n",
              "\n",
              "    .colab-df-convert {\n",
              "      background-color: #E8F0FE;\n",
              "      border: none;\n",
              "      border-radius: 50%;\n",
              "      cursor: pointer;\n",
              "      display: none;\n",
              "      fill: #1967D2;\n",
              "      height: 32px;\n",
              "      padding: 0 0 0 0;\n",
              "      width: 32px;\n",
              "    }\n",
              "\n",
              "    .colab-df-convert:hover {\n",
              "      background-color: #E2EBFA;\n",
              "      box-shadow: 0px 1px 2px rgba(60, 64, 67, 0.3), 0px 1px 3px 1px rgba(60, 64, 67, 0.15);\n",
              "      fill: #174EA6;\n",
              "    }\n",
              "\n",
              "    [theme=dark] .colab-df-convert {\n",
              "      background-color: #3B4455;\n",
              "      fill: #D2E3FC;\n",
              "    }\n",
              "\n",
              "    [theme=dark] .colab-df-convert:hover {\n",
              "      background-color: #434B5C;\n",
              "      box-shadow: 0px 1px 3px 1px rgba(0, 0, 0, 0.15);\n",
              "      filter: drop-shadow(0px 1px 2px rgba(0, 0, 0, 0.3));\n",
              "      fill: #FFFFFF;\n",
              "    }\n",
              "  </style>\n",
              "\n",
              "      <script>\n",
              "        const buttonEl =\n",
              "          document.querySelector('#df-39adf841-419e-45ae-a5ee-3739ea0c492a button.colab-df-convert');\n",
              "        buttonEl.style.display =\n",
              "          google.colab.kernel.accessAllowed ? 'block' : 'none';\n",
              "\n",
              "        async function convertToInteractive(key) {\n",
              "          const element = document.querySelector('#df-39adf841-419e-45ae-a5ee-3739ea0c492a');\n",
              "          const dataTable =\n",
              "            await google.colab.kernel.invokeFunction('convertToInteractive',\n",
              "                                                     [key], {});\n",
              "          if (!dataTable) return;\n",
              "\n",
              "          const docLinkHtml = 'Like what you see? Visit the ' +\n",
              "            '<a target=\"_blank\" href=https://colab.research.google.com/notebooks/data_table.ipynb>data table notebook</a>'\n",
              "            + ' to learn more about interactive tables.';\n",
              "          element.innerHTML = '';\n",
              "          dataTable['output_type'] = 'display_data';\n",
              "          await google.colab.output.renderOutput(dataTable, element);\n",
              "          const docLink = document.createElement('div');\n",
              "          docLink.innerHTML = docLinkHtml;\n",
              "          element.appendChild(docLink);\n",
              "        }\n",
              "      </script>\n",
              "    </div>\n",
              "  </div>\n",
              "  "
            ]
          },
          "metadata": {},
          "execution_count": 32
        }
      ]
    },
    {
      "cell_type": "code",
      "source": [
        "testdf.head()"
      ],
      "metadata": {
        "colab": {
          "base_uri": "https://localhost:8080/",
          "height": 204
        },
        "id": "1VGTiaZBu0XV",
        "outputId": "c7c0d774-8d22-4ea8-eaee-532b9de99c83"
      },
      "execution_count": 33,
      "outputs": [
        {
          "output_type": "execute_result",
          "data": {
            "text/plain": [
              "   id  RESOURCE  MGR_ID  ...  ROLE_FAMILY_DESC  ROLE_FAMILY  ROLE_CODE\n",
              "0   1     78766   72734  ...            118177        19721     117880\n",
              "1   2     40644    4378  ...            122008       118398     118865\n",
              "2   3     75443    2395  ...            301534       249618     118175\n",
              "3   4     43219   19986  ...            136187       118960     120774\n",
              "4   5     42093   50015  ...            300136       118424     118425\n",
              "\n",
              "[5 rows x 10 columns]"
            ],
            "text/html": [
              "\n",
              "  <div id=\"df-6e00515d-b670-4d8b-a661-503040e75383\">\n",
              "    <div class=\"colab-df-container\">\n",
              "      <div>\n",
              "<style scoped>\n",
              "    .dataframe tbody tr th:only-of-type {\n",
              "        vertical-align: middle;\n",
              "    }\n",
              "\n",
              "    .dataframe tbody tr th {\n",
              "        vertical-align: top;\n",
              "    }\n",
              "\n",
              "    .dataframe thead th {\n",
              "        text-align: right;\n",
              "    }\n",
              "</style>\n",
              "<table border=\"1\" class=\"dataframe\">\n",
              "  <thead>\n",
              "    <tr style=\"text-align: right;\">\n",
              "      <th></th>\n",
              "      <th>id</th>\n",
              "      <th>RESOURCE</th>\n",
              "      <th>MGR_ID</th>\n",
              "      <th>ROLE_ROLLUP_1</th>\n",
              "      <th>ROLE_ROLLUP_2</th>\n",
              "      <th>ROLE_DEPTNAME</th>\n",
              "      <th>ROLE_TITLE</th>\n",
              "      <th>ROLE_FAMILY_DESC</th>\n",
              "      <th>ROLE_FAMILY</th>\n",
              "      <th>ROLE_CODE</th>\n",
              "    </tr>\n",
              "  </thead>\n",
              "  <tbody>\n",
              "    <tr>\n",
              "      <th>0</th>\n",
              "      <td>1</td>\n",
              "      <td>78766</td>\n",
              "      <td>72734</td>\n",
              "      <td>118079</td>\n",
              "      <td>118080</td>\n",
              "      <td>117878</td>\n",
              "      <td>117879</td>\n",
              "      <td>118177</td>\n",
              "      <td>19721</td>\n",
              "      <td>117880</td>\n",
              "    </tr>\n",
              "    <tr>\n",
              "      <th>1</th>\n",
              "      <td>2</td>\n",
              "      <td>40644</td>\n",
              "      <td>4378</td>\n",
              "      <td>117961</td>\n",
              "      <td>118327</td>\n",
              "      <td>118507</td>\n",
              "      <td>118863</td>\n",
              "      <td>122008</td>\n",
              "      <td>118398</td>\n",
              "      <td>118865</td>\n",
              "    </tr>\n",
              "    <tr>\n",
              "      <th>2</th>\n",
              "      <td>3</td>\n",
              "      <td>75443</td>\n",
              "      <td>2395</td>\n",
              "      <td>117961</td>\n",
              "      <td>118300</td>\n",
              "      <td>119488</td>\n",
              "      <td>118172</td>\n",
              "      <td>301534</td>\n",
              "      <td>249618</td>\n",
              "      <td>118175</td>\n",
              "    </tr>\n",
              "    <tr>\n",
              "      <th>3</th>\n",
              "      <td>4</td>\n",
              "      <td>43219</td>\n",
              "      <td>19986</td>\n",
              "      <td>117961</td>\n",
              "      <td>118225</td>\n",
              "      <td>118403</td>\n",
              "      <td>120773</td>\n",
              "      <td>136187</td>\n",
              "      <td>118960</td>\n",
              "      <td>120774</td>\n",
              "    </tr>\n",
              "    <tr>\n",
              "      <th>4</th>\n",
              "      <td>5</td>\n",
              "      <td>42093</td>\n",
              "      <td>50015</td>\n",
              "      <td>117961</td>\n",
              "      <td>118343</td>\n",
              "      <td>119598</td>\n",
              "      <td>118422</td>\n",
              "      <td>300136</td>\n",
              "      <td>118424</td>\n",
              "      <td>118425</td>\n",
              "    </tr>\n",
              "  </tbody>\n",
              "</table>\n",
              "</div>\n",
              "      <button class=\"colab-df-convert\" onclick=\"convertToInteractive('df-6e00515d-b670-4d8b-a661-503040e75383')\"\n",
              "              title=\"Convert this dataframe to an interactive table.\"\n",
              "              style=\"display:none;\">\n",
              "        \n",
              "  <svg xmlns=\"http://www.w3.org/2000/svg\" height=\"24px\"viewBox=\"0 0 24 24\"\n",
              "       width=\"24px\">\n",
              "    <path d=\"M0 0h24v24H0V0z\" fill=\"none\"/>\n",
              "    <path d=\"M18.56 5.44l.94 2.06.94-2.06 2.06-.94-2.06-.94-.94-2.06-.94 2.06-2.06.94zm-11 1L8.5 8.5l.94-2.06 2.06-.94-2.06-.94L8.5 2.5l-.94 2.06-2.06.94zm10 10l.94 2.06.94-2.06 2.06-.94-2.06-.94-.94-2.06-.94 2.06-2.06.94z\"/><path d=\"M17.41 7.96l-1.37-1.37c-.4-.4-.92-.59-1.43-.59-.52 0-1.04.2-1.43.59L10.3 9.45l-7.72 7.72c-.78.78-.78 2.05 0 2.83L4 21.41c.39.39.9.59 1.41.59.51 0 1.02-.2 1.41-.59l7.78-7.78 2.81-2.81c.8-.78.8-2.07 0-2.86zM5.41 20L4 18.59l7.72-7.72 1.47 1.35L5.41 20z\"/>\n",
              "  </svg>\n",
              "      </button>\n",
              "      \n",
              "  <style>\n",
              "    .colab-df-container {\n",
              "      display:flex;\n",
              "      flex-wrap:wrap;\n",
              "      gap: 12px;\n",
              "    }\n",
              "\n",
              "    .colab-df-convert {\n",
              "      background-color: #E8F0FE;\n",
              "      border: none;\n",
              "      border-radius: 50%;\n",
              "      cursor: pointer;\n",
              "      display: none;\n",
              "      fill: #1967D2;\n",
              "      height: 32px;\n",
              "      padding: 0 0 0 0;\n",
              "      width: 32px;\n",
              "    }\n",
              "\n",
              "    .colab-df-convert:hover {\n",
              "      background-color: #E2EBFA;\n",
              "      box-shadow: 0px 1px 2px rgba(60, 64, 67, 0.3), 0px 1px 3px 1px rgba(60, 64, 67, 0.15);\n",
              "      fill: #174EA6;\n",
              "    }\n",
              "\n",
              "    [theme=dark] .colab-df-convert {\n",
              "      background-color: #3B4455;\n",
              "      fill: #D2E3FC;\n",
              "    }\n",
              "\n",
              "    [theme=dark] .colab-df-convert:hover {\n",
              "      background-color: #434B5C;\n",
              "      box-shadow: 0px 1px 3px 1px rgba(0, 0, 0, 0.15);\n",
              "      filter: drop-shadow(0px 1px 2px rgba(0, 0, 0, 0.3));\n",
              "      fill: #FFFFFF;\n",
              "    }\n",
              "  </style>\n",
              "\n",
              "      <script>\n",
              "        const buttonEl =\n",
              "          document.querySelector('#df-6e00515d-b670-4d8b-a661-503040e75383 button.colab-df-convert');\n",
              "        buttonEl.style.display =\n",
              "          google.colab.kernel.accessAllowed ? 'block' : 'none';\n",
              "\n",
              "        async function convertToInteractive(key) {\n",
              "          const element = document.querySelector('#df-6e00515d-b670-4d8b-a661-503040e75383');\n",
              "          const dataTable =\n",
              "            await google.colab.kernel.invokeFunction('convertToInteractive',\n",
              "                                                     [key], {});\n",
              "          if (!dataTable) return;\n",
              "\n",
              "          const docLinkHtml = 'Like what you see? Visit the ' +\n",
              "            '<a target=\"_blank\" href=https://colab.research.google.com/notebooks/data_table.ipynb>data table notebook</a>'\n",
              "            + ' to learn more about interactive tables.';\n",
              "          element.innerHTML = '';\n",
              "          dataTable['output_type'] = 'display_data';\n",
              "          await google.colab.output.renderOutput(dataTable, element);\n",
              "          const docLink = document.createElement('div');\n",
              "          docLink.innerHTML = docLinkHtml;\n",
              "          element.appendChild(docLink);\n",
              "        }\n",
              "      </script>\n",
              "    </div>\n",
              "  </div>\n",
              "  "
            ]
          },
          "metadata": {},
          "execution_count": 33
        }
      ]
    },
    {
      "cell_type": "code",
      "source": [
        "traindf.apply(lambda x: len(x.unique()))"
      ],
      "metadata": {
        "colab": {
          "base_uri": "https://localhost:8080/"
        },
        "id": "zPgqAYI7u27Y",
        "outputId": "a653799b-68a4-458f-c816-b23375ea0c1e"
      },
      "execution_count": 34,
      "outputs": [
        {
          "output_type": "execute_result",
          "data": {
            "text/plain": [
              "ACTION                 2\n",
              "RESOURCE            7518\n",
              "MGR_ID              4243\n",
              "ROLE_ROLLUP_1        128\n",
              "ROLE_ROLLUP_2        177\n",
              "ROLE_DEPTNAME        449\n",
              "ROLE_TITLE           343\n",
              "ROLE_FAMILY_DESC    2358\n",
              "ROLE_FAMILY           67\n",
              "ROLE_CODE            343\n",
              "dtype: int64"
            ]
          },
          "metadata": {},
          "execution_count": 34
        }
      ]
    },
    {
      "cell_type": "markdown",
      "source": [
        "##Distribution of Features"
      ],
      "metadata": {
        "id": "A6Q5PA6ovXZB"
      }
    },
    {
      "cell_type": "markdown",
      "source": [
        "####**Distplot**"
      ],
      "metadata": {
        "id": "T5PupQqWwYAc"
      }
    },
    {
      "cell_type": "code",
      "source": [
        "for i in traindf.describe().columns:\n",
        "  sns.distplot(traindf[i].dropna())\n",
        "  plt.show()"
      ],
      "metadata": {
        "colab": {
          "base_uri": "https://localhost:8080/",
          "height": 1000
        },
        "id": "HJ3dc_KevKM9",
        "outputId": "f746f9c5-bead-4f4e-aee9-47d4b09102c2"
      },
      "execution_count": 35,
      "outputs": [
        {
          "output_type": "display_data",
          "data": {
            "text/plain": [
              "<IPython.core.display.Javascript object>"
            ],
            "application/javascript": [
              "\n",
              "        if (window._pyforest_update_imports_cell) { window._pyforest_update_imports_cell('import fastai\\nfrom sklearn.linear_model import LogisticRegression\\nimport seaborn as sns\\nimport pandas as pd\\nfrom sklearn.preprocessing import OneHotEncoder\\nfrom sklearn.feature_extraction.text import TfidfVectorizer\\nfrom statsmodels.tsa.arima_model import ARIMA\\nimport altair as alt\\nfrom sklearn.ensemble import GradientBoostingRegressor\\nimport plotly as py\\nimport sys\\nfrom sklearn.ensemble import GradientBoostingClassifier\\nfrom scipy import stats\\nimport cv2\\nfrom sklearn.model_selection import train_test_split\\nimport re\\nimport lightgbm as lgb\\nfrom PIL import Image\\nfrom sklearn.linear_model import LinearRegression\\nfrom sklearn.preprocessing import MinMaxScaler\\nfrom sklearn.preprocessing import LabelEncoder\\nimport tensorflow as tf\\nimport tqdm\\nimport pydot\\nfrom sklearn.linear_model import ElasticNetCV\\nfrom sklearn.linear_model import Lasso\\nfrom scipy import signal as sg\\nfrom sklearn.model_selection import GridSearchCV\\nimport plotly.express as px\\nimport torch\\nfrom pathlib import Path\\nfrom sklearn.linear_model import LassoCV\\nfrom sklearn.linear_model import ElasticNet\\nimport spacy\\nfrom sklearn.decomposition import PCA\\nfrom sklearn.model_selection import cross_val_score\\nimport statsmodels.api as sm\\nimport textblob\\nimport sklearn\\nfrom sklearn.model_selection import KFold\\nfrom sklearn import svm\\nimport imutils\\nimport statistics\\nfrom sklearn.feature_extraction.text import CountVectorizer\\nimport skimage\\nfrom sklearn.preprocessing import PolynomialFeatures\\nimport pickle\\nfrom openpyxl import load_workbook\\nfrom sklearn.cluster import KMeans\\nimport matplotlib.pyplot as plt\\nfrom sklearn.manifold import TSNE'); }\n",
              "    "
            ]
          },
          "metadata": {}
        },
        {
          "output_type": "stream",
          "name": "stderr",
          "text": [
            "/usr/local/lib/python3.8/dist-packages/seaborn/distributions.py:2619: FutureWarning: `distplot` is a deprecated function and will be removed in a future version. Please adapt your code to use either `displot` (a figure-level function with similar flexibility) or `histplot` (an axes-level function for histograms).\n",
            "  warnings.warn(msg, FutureWarning)\n"
          ]
        },
        {
          "output_type": "display_data",
          "data": {
            "text/plain": [
              "<IPython.core.display.Javascript object>"
            ],
            "application/javascript": [
              "\n",
              "        if (window._pyforest_update_imports_cell) { window._pyforest_update_imports_cell('import fastai\\nfrom sklearn.linear_model import LogisticRegression\\nimport seaborn as sns\\nimport pandas as pd\\nfrom sklearn.preprocessing import OneHotEncoder\\nfrom sklearn.feature_extraction.text import TfidfVectorizer\\nfrom statsmodels.tsa.arima_model import ARIMA\\nimport altair as alt\\nfrom sklearn.ensemble import GradientBoostingRegressor\\nimport plotly as py\\nimport sys\\nfrom sklearn.ensemble import GradientBoostingClassifier\\nfrom scipy import stats\\nimport cv2\\nfrom sklearn.model_selection import train_test_split\\nimport re\\nimport lightgbm as lgb\\nfrom PIL import Image\\nfrom sklearn.linear_model import LinearRegression\\nfrom sklearn.preprocessing import MinMaxScaler\\nfrom sklearn.preprocessing import LabelEncoder\\nimport tensorflow as tf\\nimport tqdm\\nimport pydot\\nfrom sklearn.linear_model import ElasticNetCV\\nfrom sklearn.linear_model import Lasso\\nfrom scipy import signal as sg\\nfrom sklearn.model_selection import GridSearchCV\\nimport plotly.express as px\\nimport torch\\nfrom pathlib import Path\\nfrom sklearn.linear_model import LassoCV\\nfrom sklearn.linear_model import ElasticNet\\nimport spacy\\nfrom sklearn.decomposition import PCA\\nfrom sklearn.model_selection import cross_val_score\\nimport statsmodels.api as sm\\nimport textblob\\nimport sklearn\\nfrom sklearn.model_selection import KFold\\nfrom sklearn import svm\\nimport imutils\\nimport statistics\\nfrom sklearn.feature_extraction.text import CountVectorizer\\nimport skimage\\nfrom sklearn.preprocessing import PolynomialFeatures\\nimport pickle\\nfrom openpyxl import load_workbook\\nfrom sklearn.cluster import KMeans\\nimport matplotlib.pyplot as plt\\nfrom sklearn.manifold import TSNE'); }\n",
              "    "
            ]
          },
          "metadata": {}
        },
        {
          "output_type": "display_data",
          "data": {
            "text/plain": [
              "<Figure size 432x288 with 1 Axes>"
            ],
            "image/png": "[encoded data removed]"
          },
          "metadata": {
            "needs_background": "light"
          }
        },
        {
          "output_type": "display_data",
          "data": {
            "text/plain": [
              "<IPython.core.display.Javascript object>"
            ],
            "application/javascript": [
              "\n",
              "        if (window._pyforest_update_imports_cell) { window._pyforest_update_imports_cell('import fastai\\nfrom sklearn.linear_model import LogisticRegression\\nimport seaborn as sns\\nimport pandas as pd\\nfrom sklearn.preprocessing import OneHotEncoder\\nfrom sklearn.feature_extraction.text import TfidfVectorizer\\nfrom statsmodels.tsa.arima_model import ARIMA\\nimport altair as alt\\nfrom sklearn.ensemble import GradientBoostingRegressor\\nimport plotly as py\\nimport sys\\nfrom sklearn.ensemble import GradientBoostingClassifier\\nfrom scipy import stats\\nimport cv2\\nfrom sklearn.model_selection import train_test_split\\nimport re\\nimport lightgbm as lgb\\nfrom PIL import Image\\nfrom sklearn.linear_model import LinearRegression\\nfrom sklearn.preprocessing import MinMaxScaler\\nfrom sklearn.preprocessing import LabelEncoder\\nimport tensorflow as tf\\nimport tqdm\\nimport pydot\\nfrom sklearn.linear_model import ElasticNetCV\\nfrom sklearn.linear_model import Lasso\\nfrom scipy import signal as sg\\nfrom sklearn.model_selection import GridSearchCV\\nimport plotly.express as px\\nimport torch\\nfrom pathlib import Path\\nfrom sklearn.linear_model import LassoCV\\nfrom sklearn.linear_model import ElasticNet\\nimport spacy\\nfrom sklearn.decomposition import PCA\\nfrom sklearn.model_selection import cross_val_score\\nimport statsmodels.api as sm\\nimport textblob\\nimport sklearn\\nfrom sklearn.model_selection import KFold\\nfrom sklearn import svm\\nimport imutils\\nimport statistics\\nfrom sklearn.feature_extraction.text import CountVectorizer\\nimport skimage\\nfrom sklearn.preprocessing import PolynomialFeatures\\nimport pickle\\nfrom openpyxl import load_workbook\\nfrom sklearn.cluster import KMeans\\nimport matplotlib.pyplot as plt\\nfrom sklearn.manifold import TSNE'); }\n",
              "    "
            ]
          },
          "metadata": {}
        },
        {
          "output_type": "stream",
          "name": "stderr",
          "text": [
            "/usr/local/lib/python3.8/dist-packages/seaborn/distributions.py:2619: FutureWarning: `distplot` is a deprecated function and will be removed in a future version. Please adapt your code to use either `displot` (a figure-level function with similar flexibility) or `histplot` (an axes-level function for histograms).\n",
            "  warnings.warn(msg, FutureWarning)\n"
          ]
        },
        {
          "output_type": "display_data",
          "data": {
            "text/plain": [
              "<IPython.core.display.Javascript object>"
            ],
            "application/javascript": [
              "\n",
              "        if (window._pyforest_update_imports_cell) { window._pyforest_update_imports_cell('import fastai\\nfrom sklearn.linear_model import LogisticRegression\\nimport seaborn as sns\\nimport pandas as pd\\nfrom sklearn.preprocessing import OneHotEncoder\\nfrom sklearn.feature_extraction.text import TfidfVectorizer\\nfrom statsmodels.tsa.arima_model import ARIMA\\nimport altair as alt\\nfrom sklearn.ensemble import GradientBoostingRegressor\\nimport plotly as py\\nimport sys\\nfrom sklearn.ensemble import GradientBoostingClassifier\\nfrom scipy import stats\\nimport cv2\\nfrom sklearn.model_selection import train_test_split\\nimport re\\nimport lightgbm as lgb\\nfrom PIL import Image\\nfrom sklearn.linear_model import LinearRegression\\nfrom sklearn.preprocessing import MinMaxScaler\\nfrom sklearn.preprocessing import LabelEncoder\\nimport tensorflow as tf\\nimport tqdm\\nimport pydot\\nfrom sklearn.linear_model import ElasticNetCV\\nfrom sklearn.linear_model import Lasso\\nfrom scipy import signal as sg\\nfrom sklearn.model_selection import GridSearchCV\\nimport plotly.express as px\\nimport torch\\nfrom pathlib import Path\\nfrom sklearn.linear_model import LassoCV\\nfrom sklearn.linear_model import ElasticNet\\nimport spacy\\nfrom sklearn.decomposition import PCA\\nfrom sklearn.model_selection import cross_val_score\\nimport statsmodels.api as sm\\nimport textblob\\nimport sklearn\\nfrom sklearn.model_selection import KFold\\nfrom sklearn import svm\\nimport imutils\\nimport statistics\\nfrom sklearn.feature_extraction.text import CountVectorizer\\nimport skimage\\nfrom sklearn.preprocessing import PolynomialFeatures\\nimport pickle\\nfrom openpyxl import load_workbook\\nfrom sklearn.cluster import KMeans\\nimport matplotlib.pyplot as plt\\nfrom sklearn.manifold import TSNE'); }\n",
              "    "
            ]
          },
          "metadata": {}
        },
        {
          "output_type": "display_data",
          "data": {
            "text/plain": [
              "<Figure size 432x288 with 1 Axes>"
            ],
            "image/png": "[encoded data removed]"
          },
          "metadata": {
            "needs_background": "light"
          }
        },
        {
          "output_type": "display_data",
          "data": {
            "text/plain": [
              "<IPython.core.display.Javascript object>"
            ],
            "application/javascript": [
              "\n",
              "        if (window._pyforest_update_imports_cell) { window._pyforest_update_imports_cell('import fastai\\nfrom sklearn.linear_model import LogisticRegression\\nimport seaborn as sns\\nimport pandas as pd\\nfrom sklearn.preprocessing import OneHotEncoder\\nfrom sklearn.feature_extraction.text import TfidfVectorizer\\nfrom statsmodels.tsa.arima_model import ARIMA\\nimport altair as alt\\nfrom sklearn.ensemble import GradientBoostingRegressor\\nimport plotly as py\\nimport sys\\nfrom sklearn.ensemble import GradientBoostingClassifier\\nfrom scipy import stats\\nimport cv2\\nfrom sklearn.model_selection import train_test_split\\nimport re\\nimport lightgbm as lgb\\nfrom PIL import Image\\nfrom sklearn.linear_model import LinearRegression\\nfrom sklearn.preprocessing import MinMaxScaler\\nfrom sklearn.preprocessing import LabelEncoder\\nimport tensorflow as tf\\nimport tqdm\\nimport pydot\\nfrom sklearn.linear_model import ElasticNetCV\\nfrom sklearn.linear_model import Lasso\\nfrom scipy import signal as sg\\nfrom sklearn.model_selection import GridSearchCV\\nimport plotly.express as px\\nimport torch\\nfrom pathlib import Path\\nfrom sklearn.linear_model import LassoCV\\nfrom sklearn.linear_model import ElasticNet\\nimport spacy\\nfrom sklearn.decomposition import PCA\\nfrom sklearn.model_selection import cross_val_score\\nimport statsmodels.api as sm\\nimport textblob\\nimport sklearn\\nfrom sklearn.model_selection import KFold\\nfrom sklearn import svm\\nimport imutils\\nimport statistics\\nfrom sklearn.feature_extraction.text import CountVectorizer\\nimport skimage\\nfrom sklearn.preprocessing import PolynomialFeatures\\nimport pickle\\nfrom openpyxl import load_workbook\\nfrom sklearn.cluster import KMeans\\nimport matplotlib.pyplot as plt\\nfrom sklearn.manifold import TSNE'); }\n",
              "    "
            ]
          },
          "metadata": {}
        },
        {
          "output_type": "stream",
          "name": "stderr",
          "text": [
            "/usr/local/lib/python3.8/dist-packages/seaborn/distributions.py:2619: FutureWarning: `distplot` is a deprecated function and will be removed in a future version. Please adapt your code to use either `displot` (a figure-level function with similar flexibility) or `histplot` (an axes-level function for histograms).\n",
            "  warnings.warn(msg, FutureWarning)\n"
          ]
        },
        {
          "output_type": "display_data",
          "data": {
            "text/plain": [
              "<IPython.core.display.Javascript object>"
            ],
            "application/javascript": [
              "\n",
              "        if (window._pyforest_update_imports_cell) { window._pyforest_update_imports_cell('import fastai\\nfrom sklearn.linear_model import LogisticRegression\\nimport seaborn as sns\\nimport pandas as pd\\nfrom sklearn.preprocessing import OneHotEncoder\\nfrom sklearn.feature_extraction.text import TfidfVectorizer\\nfrom statsmodels.tsa.arima_model import ARIMA\\nimport altair as alt\\nfrom sklearn.ensemble import GradientBoostingRegressor\\nimport plotly as py\\nimport sys\\nfrom sklearn.ensemble import GradientBoostingClassifier\\nfrom scipy import stats\\nimport cv2\\nfrom sklearn.model_selection import train_test_split\\nimport re\\nimport lightgbm as lgb\\nfrom PIL import Image\\nfrom sklearn.linear_model import LinearRegression\\nfrom sklearn.preprocessing import MinMaxScaler\\nfrom sklearn.preprocessing import LabelEncoder\\nimport tensorflow as tf\\nimport tqdm\\nimport pydot\\nfrom sklearn.linear_model import ElasticNetCV\\nfrom sklearn.linear_model import Lasso\\nfrom scipy import signal as sg\\nfrom sklearn.model_selection import GridSearchCV\\nimport plotly.express as px\\nimport torch\\nfrom pathlib import Path\\nfrom sklearn.linear_model import LassoCV\\nfrom sklearn.linear_model import ElasticNet\\nimport spacy\\nfrom sklearn.decomposition import PCA\\nfrom sklearn.model_selection import cross_val_score\\nimport statsmodels.api as sm\\nimport textblob\\nimport sklearn\\nfrom sklearn.model_selection import KFold\\nfrom sklearn import svm\\nimport imutils\\nimport statistics\\nfrom sklearn.feature_extraction.text import CountVectorizer\\nimport skimage\\nfrom sklearn.preprocessing import PolynomialFeatures\\nimport pickle\\nfrom openpyxl import load_workbook\\nfrom sklearn.cluster import KMeans\\nimport matplotlib.pyplot as plt\\nfrom sklearn.manifold import TSNE'); }\n",
              "    "
            ]
          },
          "metadata": {}
        },
        {
          "output_type": "display_data",
          "data": {
            "text/plain": [
              "<Figure size 432x288 with 1 Axes>"
            ],
            "image/png": "[encoded data removed]"
          },
          "metadata": {
            "needs_background": "light"
          }
        },
        {
          "output_type": "display_data",
          "data": {
            "text/plain": [
              "<IPython.core.display.Javascript object>"
            ],
            "application/javascript": [
              "\n",
              "        if (window._pyforest_update_imports_cell) { window._pyforest_update_imports_cell('import fastai\\nfrom sklearn.linear_model import LogisticRegression\\nimport seaborn as sns\\nimport pandas as pd\\nfrom sklearn.preprocessing import OneHotEncoder\\nfrom sklearn.feature_extraction.text import TfidfVectorizer\\nfrom statsmodels.tsa.arima_model import ARIMA\\nimport altair as alt\\nfrom sklearn.ensemble import GradientBoostingRegressor\\nimport plotly as py\\nimport sys\\nfrom sklearn.ensemble import GradientBoostingClassifier\\nfrom scipy import stats\\nimport cv2\\nfrom sklearn.model_selection import train_test_split\\nimport re\\nimport lightgbm as lgb\\nfrom PIL import Image\\nfrom sklearn.linear_model import LinearRegression\\nfrom sklearn.preprocessing import MinMaxScaler\\nfrom sklearn.preprocessing import LabelEncoder\\nimport tensorflow as tf\\nimport tqdm\\nimport pydot\\nfrom sklearn.linear_model import ElasticNetCV\\nfrom sklearn.linear_model import Lasso\\nfrom scipy import signal as sg\\nfrom sklearn.model_selection import GridSearchCV\\nimport plotly.express as px\\nimport torch\\nfrom pathlib import Path\\nfrom sklearn.linear_model import LassoCV\\nfrom sklearn.linear_model import ElasticNet\\nimport spacy\\nfrom sklearn.decomposition import PCA\\nfrom sklearn.model_selection import cross_val_score\\nimport statsmodels.api as sm\\nimport textblob\\nimport sklearn\\nfrom sklearn.model_selection import KFold\\nfrom sklearn import svm\\nimport imutils\\nimport statistics\\nfrom sklearn.feature_extraction.text import CountVectorizer\\nimport skimage\\nfrom sklearn.preprocessing import PolynomialFeatures\\nimport pickle\\nfrom openpyxl import load_workbook\\nfrom sklearn.cluster import KMeans\\nimport matplotlib.pyplot as plt\\nfrom sklearn.manifold import TSNE'); }\n",
              "    "
            ]
          },
          "metadata": {}
        },
        {
          "output_type": "stream",
          "name": "stderr",
          "text": [
            "/usr/local/lib/python3.8/dist-packages/seaborn/distributions.py:2619: FutureWarning: `distplot` is a deprecated function and will be removed in a future version. Please adapt your code to use either `displot` (a figure-level function with similar flexibility) or `histplot` (an axes-level function for histograms).\n",
            "  warnings.warn(msg, FutureWarning)\n"
          ]
        },
        {
          "output_type": "display_data",
          "data": {
            "text/plain": [
              "<IPython.core.display.Javascript object>"
            ],
            "application/javascript": [
              "\n",
              "        if (window._pyforest_update_imports_cell) { window._pyforest_update_imports_cell('import fastai\\nfrom sklearn.linear_model import LogisticRegression\\nimport seaborn as sns\\nimport pandas as pd\\nfrom sklearn.preprocessing import OneHotEncoder\\nfrom sklearn.feature_extraction.text import TfidfVectorizer\\nfrom statsmodels.tsa.arima_model import ARIMA\\nimport altair as alt\\nfrom sklearn.ensemble import GradientBoostingRegressor\\nimport plotly as py\\nimport sys\\nfrom sklearn.ensemble import GradientBoostingClassifier\\nfrom scipy import stats\\nimport cv2\\nfrom sklearn.model_selection import train_test_split\\nimport re\\nimport lightgbm as lgb\\nfrom PIL import Image\\nfrom sklearn.linear_model import LinearRegression\\nfrom sklearn.preprocessing import MinMaxScaler\\nfrom sklearn.preprocessing import LabelEncoder\\nimport tensorflow as tf\\nimport tqdm\\nimport pydot\\nfrom sklearn.linear_model import ElasticNetCV\\nfrom sklearn.linear_model import Lasso\\nfrom scipy import signal as sg\\nfrom sklearn.model_selection import GridSearchCV\\nimport plotly.express as px\\nimport torch\\nfrom pathlib import Path\\nfrom sklearn.linear_model import LassoCV\\nfrom sklearn.linear_model import ElasticNet\\nimport spacy\\nfrom sklearn.decomposition import PCA\\nfrom sklearn.model_selection import cross_val_score\\nimport statsmodels.api as sm\\nimport textblob\\nimport sklearn\\nfrom sklearn.model_selection import KFold\\nfrom sklearn import svm\\nimport imutils\\nimport statistics\\nfrom sklearn.feature_extraction.text import CountVectorizer\\nimport skimage\\nfrom sklearn.preprocessing import PolynomialFeatures\\nimport pickle\\nfrom openpyxl import load_workbook\\nfrom sklearn.cluster import KMeans\\nimport matplotlib.pyplot as plt\\nfrom sklearn.manifold import TSNE'); }\n",
              "    "
            ]
          },
          "metadata": {}
        },
        {
          "output_type": "display_data",
          "data": {
            "text/plain": [
              "<Figure size 432x288 with 1 Axes>"
            ],
            "image/png": "[encoded data removed]"
          },
          "metadata": {
            "needs_background": "light"
          }
        },
        {
          "output_type": "display_data",
          "data": {
            "text/plain": [
              "<IPython.core.display.Javascript object>"
            ],
            "application/javascript": [
              "\n",
              "        if (window._pyforest_update_imports_cell) { window._pyforest_update_imports_cell('import fastai\\nfrom sklearn.linear_model import LogisticRegression\\nimport seaborn as sns\\nimport pandas as pd\\nfrom sklearn.preprocessing import OneHotEncoder\\nfrom sklearn.feature_extraction.text import TfidfVectorizer\\nfrom statsmodels.tsa.arima_model import ARIMA\\nimport altair as alt\\nfrom sklearn.ensemble import GradientBoostingRegressor\\nimport plotly as py\\nimport sys\\nfrom sklearn.ensemble import GradientBoostingClassifier\\nfrom scipy import stats\\nimport cv2\\nfrom sklearn.model_selection import train_test_split\\nimport re\\nimport lightgbm as lgb\\nfrom PIL import Image\\nfrom sklearn.linear_model import LinearRegression\\nfrom sklearn.preprocessing import MinMaxScaler\\nfrom sklearn.preprocessing import LabelEncoder\\nimport tensorflow as tf\\nimport tqdm\\nimport pydot\\nfrom sklearn.linear_model import ElasticNetCV\\nfrom sklearn.linear_model import Lasso\\nfrom scipy import signal as sg\\nfrom sklearn.model_selection import GridSearchCV\\nimport plotly.express as px\\nimport torch\\nfrom pathlib import Path\\nfrom sklearn.linear_model import LassoCV\\nfrom sklearn.linear_model import ElasticNet\\nimport spacy\\nfrom sklearn.decomposition import PCA\\nfrom sklearn.model_selection import cross_val_score\\nimport statsmodels.api as sm\\nimport textblob\\nimport sklearn\\nfrom sklearn.model_selection import KFold\\nfrom sklearn import svm\\nimport imutils\\nimport statistics\\nfrom sklearn.feature_extraction.text import CountVectorizer\\nimport skimage\\nfrom sklearn.preprocessing import PolynomialFeatures\\nimport pickle\\nfrom openpyxl import load_workbook\\nfrom sklearn.cluster import KMeans\\nimport matplotlib.pyplot as plt\\nfrom sklearn.manifold import TSNE'); }\n",
              "    "
            ]
          },
          "metadata": {}
        },
        {
          "output_type": "stream",
          "name": "stderr",
          "text": [
            "/usr/local/lib/python3.8/dist-packages/seaborn/distributions.py:2619: FutureWarning: `distplot` is a deprecated function and will be removed in a future version. Please adapt your code to use either `displot` (a figure-level function with similar flexibility) or `histplot` (an axes-level function for histograms).\n",
            "  warnings.warn(msg, FutureWarning)\n"
          ]
        },
        {
          "output_type": "display_data",
          "data": {
            "text/plain": [
              "<IPython.core.display.Javascript object>"
            ],
            "application/javascript": [
              "\n",
              "        if (window._pyforest_update_imports_cell) { window._pyforest_update_imports_cell('import fastai\\nfrom sklearn.linear_model import LogisticRegression\\nimport seaborn as sns\\nimport pandas as pd\\nfrom sklearn.preprocessing import OneHotEncoder\\nfrom sklearn.feature_extraction.text import TfidfVectorizer\\nfrom statsmodels.tsa.arima_model import ARIMA\\nimport altair as alt\\nfrom sklearn.ensemble import GradientBoostingRegressor\\nimport plotly as py\\nimport sys\\nfrom sklearn.ensemble import GradientBoostingClassifier\\nfrom scipy import stats\\nimport cv2\\nfrom sklearn.model_selection import train_test_split\\nimport re\\nimport lightgbm as lgb\\nfrom PIL import Image\\nfrom sklearn.linear_model import LinearRegression\\nfrom sklearn.preprocessing import MinMaxScaler\\nfrom sklearn.preprocessing import LabelEncoder\\nimport tensorflow as tf\\nimport tqdm\\nimport pydot\\nfrom sklearn.linear_model import ElasticNetCV\\nfrom sklearn.linear_model import Lasso\\nfrom scipy import signal as sg\\nfrom sklearn.model_selection import GridSearchCV\\nimport plotly.express as px\\nimport torch\\nfrom pathlib import Path\\nfrom sklearn.linear_model import LassoCV\\nfrom sklearn.linear_model import ElasticNet\\nimport spacy\\nfrom sklearn.decomposition import PCA\\nfrom sklearn.model_selection import cross_val_score\\nimport statsmodels.api as sm\\nimport textblob\\nimport sklearn\\nfrom sklearn.model_selection import KFold\\nfrom sklearn import svm\\nimport imutils\\nimport statistics\\nfrom sklearn.feature_extraction.text import CountVectorizer\\nimport skimage\\nfrom sklearn.preprocessing import PolynomialFeatures\\nimport pickle\\nfrom openpyxl import load_workbook\\nfrom sklearn.cluster import KMeans\\nimport matplotlib.pyplot as plt\\nfrom sklearn.manifold import TSNE'); }\n",
              "    "
            ]
          },
          "metadata": {}
        },
        {
          "output_type": "display_data",
          "data": {
            "text/plain": [
              "<Figure size 432x288 with 1 Axes>"
            ],
            "image/png": "[encoded data removed]"
          },
          "metadata": {
            "needs_background": "light"
          }
        },
        {
          "output_type": "display_data",
          "data": {
            "text/plain": [
              "<IPython.core.display.Javascript object>"
            ],
            "application/javascript": [
              "\n",
              "        if (window._pyforest_update_imports_cell) { window._pyforest_update_imports_cell('import fastai\\nfrom sklearn.linear_model import LogisticRegression\\nimport seaborn as sns\\nimport pandas as pd\\nfrom sklearn.preprocessing import OneHotEncoder\\nfrom sklearn.feature_extraction.text import TfidfVectorizer\\nfrom statsmodels.tsa.arima_model import ARIMA\\nimport altair as alt\\nfrom sklearn.ensemble import GradientBoostingRegressor\\nimport plotly as py\\nimport sys\\nfrom sklearn.ensemble import GradientBoostingClassifier\\nfrom scipy import stats\\nimport cv2\\nfrom sklearn.model_selection import train_test_split\\nimport re\\nimport lightgbm as lgb\\nfrom PIL import Image\\nfrom sklearn.linear_model import LinearRegression\\nfrom sklearn.preprocessing import MinMaxScaler\\nfrom sklearn.preprocessing import LabelEncoder\\nimport tensorflow as tf\\nimport tqdm\\nimport pydot\\nfrom sklearn.linear_model import ElasticNetCV\\nfrom sklearn.linear_model import Lasso\\nfrom scipy import signal as sg\\nfrom sklearn.model_selection import GridSearchCV\\nimport plotly.express as px\\nimport torch\\nfrom pathlib import Path\\nfrom sklearn.linear_model import LassoCV\\nfrom sklearn.linear_model import ElasticNet\\nimport spacy\\nfrom sklearn.decomposition import PCA\\nfrom sklearn.model_selection import cross_val_score\\nimport statsmodels.api as sm\\nimport textblob\\nimport sklearn\\nfrom sklearn.model_selection import KFold\\nfrom sklearn import svm\\nimport imutils\\nimport statistics\\nfrom sklearn.feature_extraction.text import CountVectorizer\\nimport skimage\\nfrom sklearn.preprocessing import PolynomialFeatures\\nimport pickle\\nfrom openpyxl import load_workbook\\nfrom sklearn.cluster import KMeans\\nimport matplotlib.pyplot as plt\\nfrom sklearn.manifold import TSNE'); }\n",
              "    "
            ]
          },
          "metadata": {}
        },
        {
          "output_type": "stream",
          "name": "stderr",
          "text": [
            "/usr/local/lib/python3.8/dist-packages/seaborn/distributions.py:2619: FutureWarning: `distplot` is a deprecated function and will be removed in a future version. Please adapt your code to use either `displot` (a figure-level function with similar flexibility) or `histplot` (an axes-level function for histograms).\n",
            "  warnings.warn(msg, FutureWarning)\n"
          ]
        },
        {
          "output_type": "display_data",
          "data": {
            "text/plain": [
              "<IPython.core.display.Javascript object>"
            ],
            "application/javascript": [
              "\n",
              "        if (window._pyforest_update_imports_cell) { window._pyforest_update_imports_cell('import fastai\\nfrom sklearn.linear_model import LogisticRegression\\nimport seaborn as sns\\nimport pandas as pd\\nfrom sklearn.preprocessing import OneHotEncoder\\nfrom sklearn.feature_extraction.text import TfidfVectorizer\\nfrom statsmodels.tsa.arima_model import ARIMA\\nimport altair as alt\\nfrom sklearn.ensemble import GradientBoostingRegressor\\nimport plotly as py\\nimport sys\\nfrom sklearn.ensemble import GradientBoostingClassifier\\nfrom scipy import stats\\nimport cv2\\nfrom sklearn.model_selection import train_test_split\\nimport re\\nimport lightgbm as lgb\\nfrom PIL import Image\\nfrom sklearn.linear_model import LinearRegression\\nfrom sklearn.preprocessing import MinMaxScaler\\nfrom sklearn.preprocessing import LabelEncoder\\nimport tensorflow as tf\\nimport tqdm\\nimport pydot\\nfrom sklearn.linear_model import ElasticNetCV\\nfrom sklearn.linear_model import Lasso\\nfrom scipy import signal as sg\\nfrom sklearn.model_selection import GridSearchCV\\nimport plotly.express as px\\nimport torch\\nfrom pathlib import Path\\nfrom sklearn.linear_model import LassoCV\\nfrom sklearn.linear_model import ElasticNet\\nimport spacy\\nfrom sklearn.decomposition import PCA\\nfrom sklearn.model_selection import cross_val_score\\nimport statsmodels.api as sm\\nimport textblob\\nimport sklearn\\nfrom sklearn.model_selection import KFold\\nfrom sklearn import svm\\nimport imutils\\nimport statistics\\nfrom sklearn.feature_extraction.text import CountVectorizer\\nimport skimage\\nfrom sklearn.preprocessing import PolynomialFeatures\\nimport pickle\\nfrom openpyxl import load_workbook\\nfrom sklearn.cluster import KMeans\\nimport matplotlib.pyplot as plt\\nfrom sklearn.manifold import TSNE'); }\n",
              "    "
            ]
          },
          "metadata": {}
        },
        {
          "output_type": "display_data",
          "data": {
            "text/plain": [
              "<Figure size 432x288 with 1 Axes>"
            ],
            "image/png": "[encoded data removed]"
          },
          "metadata": {
            "needs_background": "light"
          }
        },
        {
          "output_type": "display_data",
          "data": {
            "text/plain": [
              "<IPython.core.display.Javascript object>"
            ],
            "application/javascript": [
              "\n",
              "        if (window._pyforest_update_imports_cell) { window._pyforest_update_imports_cell('import fastai\\nfrom sklearn.linear_model import LogisticRegression\\nimport seaborn as sns\\nimport pandas as pd\\nfrom sklearn.preprocessing import OneHotEncoder\\nfrom sklearn.feature_extraction.text import TfidfVectorizer\\nfrom statsmodels.tsa.arima_model import ARIMA\\nimport altair as alt\\nfrom sklearn.ensemble import GradientBoostingRegressor\\nimport plotly as py\\nimport sys\\nfrom sklearn.ensemble import GradientBoostingClassifier\\nfrom scipy import stats\\nimport cv2\\nfrom sklearn.model_selection import train_test_split\\nimport re\\nimport lightgbm as lgb\\nfrom PIL import Image\\nfrom sklearn.linear_model import LinearRegression\\nfrom sklearn.preprocessing import MinMaxScaler\\nfrom sklearn.preprocessing import LabelEncoder\\nimport tensorflow as tf\\nimport tqdm\\nimport pydot\\nfrom sklearn.linear_model import ElasticNetCV\\nfrom sklearn.linear_model import Lasso\\nfrom scipy import signal as sg\\nfrom sklearn.model_selection import GridSearchCV\\nimport plotly.express as px\\nimport torch\\nfrom pathlib import Path\\nfrom sklearn.linear_model import LassoCV\\nfrom sklearn.linear_model import ElasticNet\\nimport spacy\\nfrom sklearn.decomposition import PCA\\nfrom sklearn.model_selection import cross_val_score\\nimport statsmodels.api as sm\\nimport textblob\\nimport sklearn\\nfrom sklearn.model_selection import KFold\\nfrom sklearn import svm\\nimport imutils\\nimport statistics\\nfrom sklearn.feature_extraction.text import CountVectorizer\\nimport skimage\\nfrom sklearn.preprocessing import PolynomialFeatures\\nimport pickle\\nfrom openpyxl import load_workbook\\nfrom sklearn.cluster import KMeans\\nimport matplotlib.pyplot as plt\\nfrom sklearn.manifold import TSNE'); }\n",
              "    "
            ]
          },
          "metadata": {}
        },
        {
          "output_type": "stream",
          "name": "stderr",
          "text": [
            "/usr/local/lib/python3.8/dist-packages/seaborn/distributions.py:2619: FutureWarning: `distplot` is a deprecated function and will be removed in a future version. Please adapt your code to use either `displot` (a figure-level function with similar flexibility) or `histplot` (an axes-level function for histograms).\n",
            "  warnings.warn(msg, FutureWarning)\n"
          ]
        },
        {
          "output_type": "display_data",
          "data": {
            "text/plain": [
              "<IPython.core.display.Javascript object>"
            ],
            "application/javascript": [
              "\n",
              "        if (window._pyforest_update_imports_cell) { window._pyforest_update_imports_cell('import fastai\\nfrom sklearn.linear_model import LogisticRegression\\nimport seaborn as sns\\nimport pandas as pd\\nfrom sklearn.preprocessing import OneHotEncoder\\nfrom sklearn.feature_extraction.text import TfidfVectorizer\\nfrom statsmodels.tsa.arima_model import ARIMA\\nimport altair as alt\\nfrom sklearn.ensemble import GradientBoostingRegressor\\nimport plotly as py\\nimport sys\\nfrom sklearn.ensemble import GradientBoostingClassifier\\nfrom scipy import stats\\nimport cv2\\nfrom sklearn.model_selection import train_test_split\\nimport re\\nimport lightgbm as lgb\\nfrom PIL import Image\\nfrom sklearn.linear_model import LinearRegression\\nfrom sklearn.preprocessing import MinMaxScaler\\nfrom sklearn.preprocessing import LabelEncoder\\nimport tensorflow as tf\\nimport tqdm\\nimport pydot\\nfrom sklearn.linear_model import ElasticNetCV\\nfrom sklearn.linear_model import Lasso\\nfrom scipy import signal as sg\\nfrom sklearn.model_selection import GridSearchCV\\nimport plotly.express as px\\nimport torch\\nfrom pathlib import Path\\nfrom sklearn.linear_model import LassoCV\\nfrom sklearn.linear_model import ElasticNet\\nimport spacy\\nfrom sklearn.decomposition import PCA\\nfrom sklearn.model_selection import cross_val_score\\nimport statsmodels.api as sm\\nimport textblob\\nimport sklearn\\nfrom sklearn.model_selection import KFold\\nfrom sklearn import svm\\nimport imutils\\nimport statistics\\nfrom sklearn.feature_extraction.text import CountVectorizer\\nimport skimage\\nfrom sklearn.preprocessing import PolynomialFeatures\\nimport pickle\\nfrom openpyxl import load_workbook\\nfrom sklearn.cluster import KMeans\\nimport matplotlib.pyplot as plt\\nfrom sklearn.manifold import TSNE'); }\n",
              "    "
            ]
          },
          "metadata": {}
        },
        {
          "output_type": "display_data",
          "data": {
            "text/plain": [
              "<Figure size 432x288 with 1 Axes>"
            ],
            "image/png": "[encoded data removed]"
          },
          "metadata": {
            "needs_background": "light"
          }
        },
        {
          "output_type": "display_data",
          "data": {
            "text/plain": [
              "<IPython.core.display.Javascript object>"
            ],
            "application/javascript": [
              "\n",
              "        if (window._pyforest_update_imports_cell) { window._pyforest_update_imports_cell('import fastai\\nfrom sklearn.linear_model import LogisticRegression\\nimport seaborn as sns\\nimport pandas as pd\\nfrom sklearn.preprocessing import OneHotEncoder\\nfrom sklearn.feature_extraction.text import TfidfVectorizer\\nfrom statsmodels.tsa.arima_model import ARIMA\\nimport altair as alt\\nfrom sklearn.ensemble import GradientBoostingRegressor\\nimport plotly as py\\nimport sys\\nfrom sklearn.ensemble import GradientBoostingClassifier\\nfrom scipy import stats\\nimport cv2\\nfrom sklearn.model_selection import train_test_split\\nimport re\\nimport lightgbm as lgb\\nfrom PIL import Image\\nfrom sklearn.linear_model import LinearRegression\\nfrom sklearn.preprocessing import MinMaxScaler\\nfrom sklearn.preprocessing import LabelEncoder\\nimport tensorflow as tf\\nimport tqdm\\nimport pydot\\nfrom sklearn.linear_model import ElasticNetCV\\nfrom sklearn.linear_model import Lasso\\nfrom scipy import signal as sg\\nfrom sklearn.model_selection import GridSearchCV\\nimport plotly.express as px\\nimport torch\\nfrom pathlib import Path\\nfrom sklearn.linear_model import LassoCV\\nfrom sklearn.linear_model import ElasticNet\\nimport spacy\\nfrom sklearn.decomposition import PCA\\nfrom sklearn.model_selection import cross_val_score\\nimport statsmodels.api as sm\\nimport textblob\\nimport sklearn\\nfrom sklearn.model_selection import KFold\\nfrom sklearn import svm\\nimport imutils\\nimport statistics\\nfrom sklearn.feature_extraction.text import CountVectorizer\\nimport skimage\\nfrom sklearn.preprocessing import PolynomialFeatures\\nimport pickle\\nfrom openpyxl import load_workbook\\nfrom sklearn.cluster import KMeans\\nimport matplotlib.pyplot as plt\\nfrom sklearn.manifold import TSNE'); }\n",
              "    "
            ]
          },
          "metadata": {}
        },
        {
          "output_type": "stream",
          "name": "stderr",
          "text": [
            "/usr/local/lib/python3.8/dist-packages/seaborn/distributions.py:2619: FutureWarning: `distplot` is a deprecated function and will be removed in a future version. Please adapt your code to use either `displot` (a figure-level function with similar flexibility) or `histplot` (an axes-level function for histograms).\n",
            "  warnings.warn(msg, FutureWarning)\n"
          ]
        },
        {
          "output_type": "display_data",
          "data": {
            "text/plain": [
              "<IPython.core.display.Javascript object>"
            ],
            "application/javascript": [
              "\n",
              "        if (window._pyforest_update_imports_cell) { window._pyforest_update_imports_cell('import fastai\\nfrom sklearn.linear_model import LogisticRegression\\nimport seaborn as sns\\nimport pandas as pd\\nfrom sklearn.preprocessing import OneHotEncoder\\nfrom sklearn.feature_extraction.text import TfidfVectorizer\\nfrom statsmodels.tsa.arima_model import ARIMA\\nimport altair as alt\\nfrom sklearn.ensemble import GradientBoostingRegressor\\nimport plotly as py\\nimport sys\\nfrom sklearn.ensemble import GradientBoostingClassifier\\nfrom scipy import stats\\nimport cv2\\nfrom sklearn.model_selection import train_test_split\\nimport re\\nimport lightgbm as lgb\\nfrom PIL import Image\\nfrom sklearn.linear_model import LinearRegression\\nfrom sklearn.preprocessing import MinMaxScaler\\nfrom sklearn.preprocessing import LabelEncoder\\nimport tensorflow as tf\\nimport tqdm\\nimport pydot\\nfrom sklearn.linear_model import ElasticNetCV\\nfrom sklearn.linear_model import Lasso\\nfrom scipy import signal as sg\\nfrom sklearn.model_selection import GridSearchCV\\nimport plotly.express as px\\nimport torch\\nfrom pathlib import Path\\nfrom sklearn.linear_model import LassoCV\\nfrom sklearn.linear_model import ElasticNet\\nimport spacy\\nfrom sklearn.decomposition import PCA\\nfrom sklearn.model_selection import cross_val_score\\nimport statsmodels.api as sm\\nimport textblob\\nimport sklearn\\nfrom sklearn.model_selection import KFold\\nfrom sklearn import svm\\nimport imutils\\nimport statistics\\nfrom sklearn.feature_extraction.text import CountVectorizer\\nimport skimage\\nfrom sklearn.preprocessing import PolynomialFeatures\\nimport pickle\\nfrom openpyxl import load_workbook\\nfrom sklearn.cluster import KMeans\\nimport matplotlib.pyplot as plt\\nfrom sklearn.manifold import TSNE'); }\n",
              "    "
            ]
          },
          "metadata": {}
        },
        {
          "output_type": "display_data",
          "data": {
            "text/plain": [
              "<Figure size 432x288 with 1 Axes>"
            ],
            "image/png": "[encoded data removed]"
          },
          "metadata": {
            "needs_background": "light"
          }
        },
        {
          "output_type": "display_data",
          "data": {
            "text/plain": [
              "<IPython.core.display.Javascript object>"
            ],
            "application/javascript": [
              "\n",
              "        if (window._pyforest_update_imports_cell) { window._pyforest_update_imports_cell('import fastai\\nfrom sklearn.linear_model import LogisticRegression\\nimport seaborn as sns\\nimport pandas as pd\\nfrom sklearn.preprocessing import OneHotEncoder\\nfrom sklearn.feature_extraction.text import TfidfVectorizer\\nfrom statsmodels.tsa.arima_model import ARIMA\\nimport altair as alt\\nfrom sklearn.ensemble import GradientBoostingRegressor\\nimport plotly as py\\nimport sys\\nfrom sklearn.ensemble import GradientBoostingClassifier\\nfrom scipy import stats\\nimport cv2\\nfrom sklearn.model_selection import train_test_split\\nimport re\\nimport lightgbm as lgb\\nfrom PIL import Image\\nfrom sklearn.linear_model import LinearRegression\\nfrom sklearn.preprocessing import MinMaxScaler\\nfrom sklearn.preprocessing import LabelEncoder\\nimport tensorflow as tf\\nimport tqdm\\nimport pydot\\nfrom sklearn.linear_model import ElasticNetCV\\nfrom sklearn.linear_model import Lasso\\nfrom scipy import signal as sg\\nfrom sklearn.model_selection import GridSearchCV\\nimport plotly.express as px\\nimport torch\\nfrom pathlib import Path\\nfrom sklearn.linear_model import LassoCV\\nfrom sklearn.linear_model import ElasticNet\\nimport spacy\\nfrom sklearn.decomposition import PCA\\nfrom sklearn.model_selection import cross_val_score\\nimport statsmodels.api as sm\\nimport textblob\\nimport sklearn\\nfrom sklearn.model_selection import KFold\\nfrom sklearn import svm\\nimport imutils\\nimport statistics\\nfrom sklearn.feature_extraction.text import CountVectorizer\\nimport skimage\\nfrom sklearn.preprocessing import PolynomialFeatures\\nimport pickle\\nfrom openpyxl import load_workbook\\nfrom sklearn.cluster import KMeans\\nimport matplotlib.pyplot as plt\\nfrom sklearn.manifold import TSNE'); }\n",
              "    "
            ]
          },
          "metadata": {}
        },
        {
          "output_type": "stream",
          "name": "stderr",
          "text": [
            "/usr/local/lib/python3.8/dist-packages/seaborn/distributions.py:2619: FutureWarning: `distplot` is a deprecated function and will be removed in a future version. Please adapt your code to use either `displot` (a figure-level function with similar flexibility) or `histplot` (an axes-level function for histograms).\n",
            "  warnings.warn(msg, FutureWarning)\n"
          ]
        },
        {
          "output_type": "display_data",
          "data": {
            "text/plain": [
              "<IPython.core.display.Javascript object>"
            ],
            "application/javascript": [
              "\n",
              "        if (window._pyforest_update_imports_cell) { window._pyforest_update_imports_cell('import fastai\\nfrom sklearn.linear_model import LogisticRegression\\nimport seaborn as sns\\nimport pandas as pd\\nfrom sklearn.preprocessing import OneHotEncoder\\nfrom sklearn.feature_extraction.text import TfidfVectorizer\\nfrom statsmodels.tsa.arima_model import ARIMA\\nimport altair as alt\\nfrom sklearn.ensemble import GradientBoostingRegressor\\nimport plotly as py\\nimport sys\\nfrom sklearn.ensemble import GradientBoostingClassifier\\nfrom scipy import stats\\nimport cv2\\nfrom sklearn.model_selection import train_test_split\\nimport re\\nimport lightgbm as lgb\\nfrom PIL import Image\\nfrom sklearn.linear_model import LinearRegression\\nfrom sklearn.preprocessing import MinMaxScaler\\nfrom sklearn.preprocessing import LabelEncoder\\nimport tensorflow as tf\\nimport tqdm\\nimport pydot\\nfrom sklearn.linear_model import ElasticNetCV\\nfrom sklearn.linear_model import Lasso\\nfrom scipy import signal as sg\\nfrom sklearn.model_selection import GridSearchCV\\nimport plotly.express as px\\nimport torch\\nfrom pathlib import Path\\nfrom sklearn.linear_model import LassoCV\\nfrom sklearn.linear_model import ElasticNet\\nimport spacy\\nfrom sklearn.decomposition import PCA\\nfrom sklearn.model_selection import cross_val_score\\nimport statsmodels.api as sm\\nimport textblob\\nimport sklearn\\nfrom sklearn.model_selection import KFold\\nfrom sklearn import svm\\nimport imutils\\nimport statistics\\nfrom sklearn.feature_extraction.text import CountVectorizer\\nimport skimage\\nfrom sklearn.preprocessing import PolynomialFeatures\\nimport pickle\\nfrom openpyxl import load_workbook\\nfrom sklearn.cluster import KMeans\\nimport matplotlib.pyplot as plt\\nfrom sklearn.manifold import TSNE'); }\n",
              "    "
            ]
          },
          "metadata": {}
        },
        {
          "output_type": "display_data",
          "data": {
            "text/plain": [
              "<Figure size 432x288 with 1 Axes>"
            ],
            "image/png": "[encoded data removed]"
          },
          "metadata": {
            "needs_background": "light"
          }
        },
        {
          "output_type": "display_data",
          "data": {
            "text/plain": [
              "<IPython.core.display.Javascript object>"
            ],
            "application/javascript": [
              "\n",
              "        if (window._pyforest_update_imports_cell) { window._pyforest_update_imports_cell('import fastai\\nfrom sklearn.linear_model import LogisticRegression\\nimport seaborn as sns\\nimport pandas as pd\\nfrom sklearn.preprocessing import OneHotEncoder\\nfrom sklearn.feature_extraction.text import TfidfVectorizer\\nfrom statsmodels.tsa.arima_model import ARIMA\\nimport altair as alt\\nfrom sklearn.ensemble import GradientBoostingRegressor\\nimport plotly as py\\nimport sys\\nfrom sklearn.ensemble import GradientBoostingClassifier\\nfrom scipy import stats\\nimport cv2\\nfrom sklearn.model_selection import train_test_split\\nimport re\\nimport lightgbm as lgb\\nfrom PIL import Image\\nfrom sklearn.linear_model import LinearRegression\\nfrom sklearn.preprocessing import MinMaxScaler\\nfrom sklearn.preprocessing import LabelEncoder\\nimport tensorflow as tf\\nimport tqdm\\nimport pydot\\nfrom sklearn.linear_model import ElasticNetCV\\nfrom sklearn.linear_model import Lasso\\nfrom scipy import signal as sg\\nfrom sklearn.model_selection import GridSearchCV\\nimport plotly.express as px\\nimport torch\\nfrom pathlib import Path\\nfrom sklearn.linear_model import LassoCV\\nfrom sklearn.linear_model import ElasticNet\\nimport spacy\\nfrom sklearn.decomposition import PCA\\nfrom sklearn.model_selection import cross_val_score\\nimport statsmodels.api as sm\\nimport textblob\\nimport sklearn\\nfrom sklearn.model_selection import KFold\\nfrom sklearn import svm\\nimport imutils\\nimport statistics\\nfrom sklearn.feature_extraction.text import CountVectorizer\\nimport skimage\\nfrom sklearn.preprocessing import PolynomialFeatures\\nimport pickle\\nfrom openpyxl import load_workbook\\nfrom sklearn.cluster import KMeans\\nimport matplotlib.pyplot as plt\\nfrom sklearn.manifold import TSNE'); }\n",
              "    "
            ]
          },
          "metadata": {}
        },
        {
          "output_type": "stream",
          "name": "stderr",
          "text": [
            "/usr/local/lib/python3.8/dist-packages/seaborn/distributions.py:2619: FutureWarning: `distplot` is a deprecated function and will be removed in a future version. Please adapt your code to use either `displot` (a figure-level function with similar flexibility) or `histplot` (an axes-level function for histograms).\n",
            "  warnings.warn(msg, FutureWarning)\n"
          ]
        },
        {
          "output_type": "display_data",
          "data": {
            "text/plain": [
              "<IPython.core.display.Javascript object>"
            ],
            "application/javascript": [
              "\n",
              "        if (window._pyforest_update_imports_cell) { window._pyforest_update_imports_cell('import fastai\\nfrom sklearn.linear_model import LogisticRegression\\nimport seaborn as sns\\nimport pandas as pd\\nfrom sklearn.preprocessing import OneHotEncoder\\nfrom sklearn.feature_extraction.text import TfidfVectorizer\\nfrom statsmodels.tsa.arima_model import ARIMA\\nimport altair as alt\\nfrom sklearn.ensemble import GradientBoostingRegressor\\nimport plotly as py\\nimport sys\\nfrom sklearn.ensemble import GradientBoostingClassifier\\nfrom scipy import stats\\nimport cv2\\nfrom sklearn.model_selection import train_test_split\\nimport re\\nimport lightgbm as lgb\\nfrom PIL import Image\\nfrom sklearn.linear_model import LinearRegression\\nfrom sklearn.preprocessing import MinMaxScaler\\nfrom sklearn.preprocessing import LabelEncoder\\nimport tensorflow as tf\\nimport tqdm\\nimport pydot\\nfrom sklearn.linear_model import ElasticNetCV\\nfrom sklearn.linear_model import Lasso\\nfrom scipy import signal as sg\\nfrom sklearn.model_selection import GridSearchCV\\nimport plotly.express as px\\nimport torch\\nfrom pathlib import Path\\nfrom sklearn.linear_model import LassoCV\\nfrom sklearn.linear_model import ElasticNet\\nimport spacy\\nfrom sklearn.decomposition import PCA\\nfrom sklearn.model_selection import cross_val_score\\nimport statsmodels.api as sm\\nimport textblob\\nimport sklearn\\nfrom sklearn.model_selection import KFold\\nfrom sklearn import svm\\nimport imutils\\nimport statistics\\nfrom sklearn.feature_extraction.text import CountVectorizer\\nimport skimage\\nfrom sklearn.preprocessing import PolynomialFeatures\\nimport pickle\\nfrom openpyxl import load_workbook\\nfrom sklearn.cluster import KMeans\\nimport matplotlib.pyplot as plt\\nfrom sklearn.manifold import TSNE'); }\n",
              "    "
            ]
          },
          "metadata": {}
        },
        {
          "output_type": "display_data",
          "data": {
            "text/plain": [
              "<Figure size 432x288 with 1 Axes>"
            ],
            "image/png": "[encoded data removed]"
          },
          "metadata": {
            "needs_background": "light"
          }
        }
      ]
    },
    {
      "cell_type": "markdown",
      "source": [
        "####**Boxplot**\n",
        "Boxplot is best suited for checking outliers"
      ],
      "metadata": {
        "id": "bMjVJ1lUwhBZ"
      }
    },
    {
      "cell_type": "code",
      "source": [
        "for i in traindf.describe().columns:\n",
        "  sns.boxplot(traindf[i].dropna())\n",
        "  plt.show()"
      ],
      "metadata": {
        "colab": {
          "base_uri": "https://localhost:8080/",
          "height": 1000
        },
        "id": "wTBe-eBpvrq-",
        "outputId": "0c5fe22b-052d-4a0e-cfc2-3484877ed19d"
      },
      "execution_count": 36,
      "outputs": [
        {
          "output_type": "display_data",
          "data": {
            "text/plain": [
              "<IPython.core.display.Javascript object>"
            ],
            "application/javascript": [
              "\n",
              "        if (window._pyforest_update_imports_cell) { window._pyforest_update_imports_cell('import fastai\\nfrom sklearn.linear_model import LogisticRegression\\nimport seaborn as sns\\nimport pandas as pd\\nfrom sklearn.preprocessing import OneHotEncoder\\nfrom sklearn.feature_extraction.text import TfidfVectorizer\\nfrom statsmodels.tsa.arima_model import ARIMA\\nimport altair as alt\\nfrom sklearn.ensemble import GradientBoostingRegressor\\nimport plotly as py\\nimport sys\\nfrom sklearn.ensemble import GradientBoostingClassifier\\nfrom scipy import stats\\nimport cv2\\nfrom sklearn.model_selection import train_test_split\\nimport re\\nimport lightgbm as lgb\\nfrom PIL import Image\\nfrom sklearn.linear_model import LinearRegression\\nfrom sklearn.preprocessing import MinMaxScaler\\nfrom sklearn.preprocessing import LabelEncoder\\nimport tensorflow as tf\\nimport tqdm\\nimport pydot\\nfrom sklearn.linear_model import ElasticNetCV\\nfrom sklearn.linear_model import Lasso\\nfrom scipy import signal as sg\\nfrom sklearn.model_selection import GridSearchCV\\nimport plotly.express as px\\nimport torch\\nfrom pathlib import Path\\nfrom sklearn.linear_model import LassoCV\\nfrom sklearn.linear_model import ElasticNet\\nimport spacy\\nfrom sklearn.decomposition import PCA\\nfrom sklearn.model_selection import cross_val_score\\nimport statsmodels.api as sm\\nimport textblob\\nimport sklearn\\nfrom sklearn.model_selection import KFold\\nfrom sklearn import svm\\nimport imutils\\nimport statistics\\nfrom sklearn.feature_extraction.text import CountVectorizer\\nimport skimage\\nfrom sklearn.preprocessing import PolynomialFeatures\\nimport pickle\\nfrom openpyxl import load_workbook\\nfrom sklearn.cluster import KMeans\\nimport matplotlib.pyplot as plt\\nfrom sklearn.manifold import TSNE'); }\n",
              "    "
            ]
          },
          "metadata": {}
        },
        {
          "output_type": "stream",
          "name": "stderr",
          "text": [
            "/usr/local/lib/python3.8/dist-packages/seaborn/_decorators.py:36: FutureWarning: Pass the following variable as a keyword arg: x. From version 0.12, the only valid positional argument will be `data`, and passing other arguments without an explicit keyword will result in an error or misinterpretation.\n",
            "  warnings.warn(\n"
          ]
        },
        {
          "output_type": "display_data",
          "data": {
            "text/plain": [
              "<IPython.core.display.Javascript object>"
            ],
            "application/javascript": [
              "\n",
              "        if (window._pyforest_update_imports_cell) { window._pyforest_update_imports_cell('import fastai\\nfrom sklearn.linear_model import LogisticRegression\\nimport seaborn as sns\\nimport pandas as pd\\nfrom sklearn.preprocessing import OneHotEncoder\\nfrom sklearn.feature_extraction.text import TfidfVectorizer\\nfrom statsmodels.tsa.arima_model import ARIMA\\nimport altair as alt\\nfrom sklearn.ensemble import GradientBoostingRegressor\\nimport plotly as py\\nimport sys\\nfrom sklearn.ensemble import GradientBoostingClassifier\\nfrom scipy import stats\\nimport cv2\\nfrom sklearn.model_selection import train_test_split\\nimport re\\nimport lightgbm as lgb\\nfrom PIL import Image\\nfrom sklearn.linear_model import LinearRegression\\nfrom sklearn.preprocessing import MinMaxScaler\\nfrom sklearn.preprocessing import LabelEncoder\\nimport tensorflow as tf\\nimport tqdm\\nimport pydot\\nfrom sklearn.linear_model import ElasticNetCV\\nfrom sklearn.linear_model import Lasso\\nfrom scipy import signal as sg\\nfrom sklearn.model_selection import GridSearchCV\\nimport plotly.express as px\\nimport torch\\nfrom pathlib import Path\\nfrom sklearn.linear_model import LassoCV\\nfrom sklearn.linear_model import ElasticNet\\nimport spacy\\nfrom sklearn.decomposition import PCA\\nfrom sklearn.model_selection import cross_val_score\\nimport statsmodels.api as sm\\nimport textblob\\nimport sklearn\\nfrom sklearn.model_selection import KFold\\nfrom sklearn import svm\\nimport imutils\\nimport statistics\\nfrom sklearn.feature_extraction.text import CountVectorizer\\nimport skimage\\nfrom sklearn.preprocessing import PolynomialFeatures\\nimport pickle\\nfrom openpyxl import load_workbook\\nfrom sklearn.cluster import KMeans\\nimport matplotlib.pyplot as plt\\nfrom sklearn.manifold import TSNE'); }\n",
              "    "
            ]
          },
          "metadata": {}
        },
        {
          "output_type": "display_data",
          "data": {
            "text/plain": [
              "<Figure size 432x288 with 1 Axes>"
            ],
            "image/png": "[encoded data removed]"
          },
          "metadata": {
            "needs_background": "light"
          }
        },
        {
          "output_type": "display_data",
          "data": {
            "text/plain": [
              "<IPython.core.display.Javascript object>"
            ],
            "application/javascript": [
              "\n",
              "        if (window._pyforest_update_imports_cell) { window._pyforest_update_imports_cell('import fastai\\nfrom sklearn.linear_model import LogisticRegression\\nimport seaborn as sns\\nimport pandas as pd\\nfrom sklearn.preprocessing import OneHotEncoder\\nfrom sklearn.feature_extraction.text import TfidfVectorizer\\nfrom statsmodels.tsa.arima_model import ARIMA\\nimport altair as alt\\nfrom sklearn.ensemble import GradientBoostingRegressor\\nimport plotly as py\\nimport sys\\nfrom sklearn.ensemble import GradientBoostingClassifier\\nfrom scipy import stats\\nimport cv2\\nfrom sklearn.model_selection import train_test_split\\nimport re\\nimport lightgbm as lgb\\nfrom PIL import Image\\nfrom sklearn.linear_model import LinearRegression\\nfrom sklearn.preprocessing import MinMaxScaler\\nfrom sklearn.preprocessing import LabelEncoder\\nimport tensorflow as tf\\nimport tqdm\\nimport pydot\\nfrom sklearn.linear_model import ElasticNetCV\\nfrom sklearn.linear_model import Lasso\\nfrom scipy import signal as sg\\nfrom sklearn.model_selection import GridSearchCV\\nimport plotly.express as px\\nimport torch\\nfrom pathlib import Path\\nfrom sklearn.linear_model import LassoCV\\nfrom sklearn.linear_model import ElasticNet\\nimport spacy\\nfrom sklearn.decomposition import PCA\\nfrom sklearn.model_selection import cross_val_score\\nimport statsmodels.api as sm\\nimport textblob\\nimport sklearn\\nfrom sklearn.model_selection import KFold\\nfrom sklearn import svm\\nimport imutils\\nimport statistics\\nfrom sklearn.feature_extraction.text import CountVectorizer\\nimport skimage\\nfrom sklearn.preprocessing import PolynomialFeatures\\nimport pickle\\nfrom openpyxl import load_workbook\\nfrom sklearn.cluster import KMeans\\nimport matplotlib.pyplot as plt\\nfrom sklearn.manifold import TSNE'); }\n",
              "    "
            ]
          },
          "metadata": {}
        },
        {
          "output_type": "stream",
          "name": "stderr",
          "text": [
            "/usr/local/lib/python3.8/dist-packages/seaborn/_decorators.py:36: FutureWarning: Pass the following variable as a keyword arg: x. From version 0.12, the only valid positional argument will be `data`, and passing other arguments without an explicit keyword will result in an error or misinterpretation.\n",
            "  warnings.warn(\n"
          ]
        },
        {
          "output_type": "display_data",
          "data": {
            "text/plain": [
              "<IPython.core.display.Javascript object>"
            ],
            "application/javascript": [
              "\n",
              "        if (window._pyforest_update_imports_cell) { window._pyforest_update_imports_cell('import fastai\\nfrom sklearn.linear_model import LogisticRegression\\nimport seaborn as sns\\nimport pandas as pd\\nfrom sklearn.preprocessing import OneHotEncoder\\nfrom sklearn.feature_extraction.text import TfidfVectorizer\\nfrom statsmodels.tsa.arima_model import ARIMA\\nimport altair as alt\\nfrom sklearn.ensemble import GradientBoostingRegressor\\nimport plotly as py\\nimport sys\\nfrom sklearn.ensemble import GradientBoostingClassifier\\nfrom scipy import stats\\nimport cv2\\nfrom sklearn.model_selection import train_test_split\\nimport re\\nimport lightgbm as lgb\\nfrom PIL import Image\\nfrom sklearn.linear_model import LinearRegression\\nfrom sklearn.preprocessing import MinMaxScaler\\nfrom sklearn.preprocessing import LabelEncoder\\nimport tensorflow as tf\\nimport tqdm\\nimport pydot\\nfrom sklearn.linear_model import ElasticNetCV\\nfrom sklearn.linear_model import Lasso\\nfrom scipy import signal as sg\\nfrom sklearn.model_selection import GridSearchCV\\nimport plotly.express as px\\nimport torch\\nfrom pathlib import Path\\nfrom sklearn.linear_model import LassoCV\\nfrom sklearn.linear_model import ElasticNet\\nimport spacy\\nfrom sklearn.decomposition import PCA\\nfrom sklearn.model_selection import cross_val_score\\nimport statsmodels.api as sm\\nimport textblob\\nimport sklearn\\nfrom sklearn.model_selection import KFold\\nfrom sklearn import svm\\nimport imutils\\nimport statistics\\nfrom sklearn.feature_extraction.text import CountVectorizer\\nimport skimage\\nfrom sklearn.preprocessing import PolynomialFeatures\\nimport pickle\\nfrom openpyxl import load_workbook\\nfrom sklearn.cluster import KMeans\\nimport matplotlib.pyplot as plt\\nfrom sklearn.manifold import TSNE'); }\n",
              "    "
            ]
          },
          "metadata": {}
        },
        {
          "output_type": "display_data",
          "data": {
            "text/plain": [
              "<Figure size 432x288 with 1 Axes>"
            ],
            "image/png": "[encoded data removed]"
          },
          "metadata": {
            "needs_background": "light"
          }
        },
        {
          "output_type": "display_data",
          "data": {
            "text/plain": [
              "<IPython.core.display.Javascript object>"
            ],
            "application/javascript": [
              "\n",
              "        if (window._pyforest_update_imports_cell) { window._pyforest_update_imports_cell('import fastai\\nfrom sklearn.linear_model import LogisticRegression\\nimport seaborn as sns\\nimport pandas as pd\\nfrom sklearn.preprocessing import OneHotEncoder\\nfrom sklearn.feature_extraction.text import TfidfVectorizer\\nfrom statsmodels.tsa.arima_model import ARIMA\\nimport altair as alt\\nfrom sklearn.ensemble import GradientBoostingRegressor\\nimport plotly as py\\nimport sys\\nfrom sklearn.ensemble import GradientBoostingClassifier\\nfrom scipy import stats\\nimport cv2\\nfrom sklearn.model_selection import train_test_split\\nimport re\\nimport lightgbm as lgb\\nfrom PIL import Image\\nfrom sklearn.linear_model import LinearRegression\\nfrom sklearn.preprocessing import MinMaxScaler\\nfrom sklearn.preprocessing import LabelEncoder\\nimport tensorflow as tf\\nimport tqdm\\nimport pydot\\nfrom sklearn.linear_model import ElasticNetCV\\nfrom sklearn.linear_model import Lasso\\nfrom scipy import signal as sg\\nfrom sklearn.model_selection import GridSearchCV\\nimport plotly.express as px\\nimport torch\\nfrom pathlib import Path\\nfrom sklearn.linear_model import LassoCV\\nfrom sklearn.linear_model import ElasticNet\\nimport spacy\\nfrom sklearn.decomposition import PCA\\nfrom sklearn.model_selection import cross_val_score\\nimport statsmodels.api as sm\\nimport textblob\\nimport sklearn\\nfrom sklearn.model_selection import KFold\\nfrom sklearn import svm\\nimport imutils\\nimport statistics\\nfrom sklearn.feature_extraction.text import CountVectorizer\\nimport skimage\\nfrom sklearn.preprocessing import PolynomialFeatures\\nimport pickle\\nfrom openpyxl import load_workbook\\nfrom sklearn.cluster import KMeans\\nimport matplotlib.pyplot as plt\\nfrom sklearn.manifold import TSNE'); }\n",
              "    "
            ]
          },
          "metadata": {}
        },
        {
          "output_type": "stream",
          "name": "stderr",
          "text": [
            "/usr/local/lib/python3.8/dist-packages/seaborn/_decorators.py:36: FutureWarning: Pass the following variable as a keyword arg: x. From version 0.12, the only valid positional argument will be `data`, and passing other arguments without an explicit keyword will result in an error or misinterpretation.\n",
            "  warnings.warn(\n"
          ]
        },
        {
          "output_type": "display_data",
          "data": {
            "text/plain": [
              "<IPython.core.display.Javascript object>"
            ],
            "application/javascript": [
              "\n",
              "        if (window._pyforest_update_imports_cell) { window._pyforest_update_imports_cell('import fastai\\nfrom sklearn.linear_model import LogisticRegression\\nimport seaborn as sns\\nimport pandas as pd\\nfrom sklearn.preprocessing import OneHotEncoder\\nfrom sklearn.feature_extraction.text import TfidfVectorizer\\nfrom statsmodels.tsa.arima_model import ARIMA\\nimport altair as alt\\nfrom sklearn.ensemble import GradientBoostingRegressor\\nimport plotly as py\\nimport sys\\nfrom sklearn.ensemble import GradientBoostingClassifier\\nfrom scipy import stats\\nimport cv2\\nfrom sklearn.model_selection import train_test_split\\nimport re\\nimport lightgbm as lgb\\nfrom PIL import Image\\nfrom sklearn.linear_model import LinearRegression\\nfrom sklearn.preprocessing import MinMaxScaler\\nfrom sklearn.preprocessing import LabelEncoder\\nimport tensorflow as tf\\nimport tqdm\\nimport pydot\\nfrom sklearn.linear_model import ElasticNetCV\\nfrom sklearn.linear_model import Lasso\\nfrom scipy import signal as sg\\nfrom sklearn.model_selection import GridSearchCV\\nimport plotly.express as px\\nimport torch\\nfrom pathlib import Path\\nfrom sklearn.linear_model import LassoCV\\nfrom sklearn.linear_model import ElasticNet\\nimport spacy\\nfrom sklearn.decomposition import PCA\\nfrom sklearn.model_selection import cross_val_score\\nimport statsmodels.api as sm\\nimport textblob\\nimport sklearn\\nfrom sklearn.model_selection import KFold\\nfrom sklearn import svm\\nimport imutils\\nimport statistics\\nfrom sklearn.feature_extraction.text import CountVectorizer\\nimport skimage\\nfrom sklearn.preprocessing import PolynomialFeatures\\nimport pickle\\nfrom openpyxl import load_workbook\\nfrom sklearn.cluster import KMeans\\nimport matplotlib.pyplot as plt\\nfrom sklearn.manifold import TSNE'); }\n",
              "    "
            ]
          },
          "metadata": {}
        },
        {
          "output_type": "display_data",
          "data": {
            "text/plain": [
              "<Figure size 432x288 with 1 Axes>"
            ],
            "image/png": "[encoded data removed]"
          },
          "metadata": {
            "needs_background": "light"
          }
        },
        {
          "output_type": "display_data",
          "data": {
            "text/plain": [
              "<IPython.core.display.Javascript object>"
            ],
            "application/javascript": [
              "\n",
              "        if (window._pyforest_update_imports_cell) { window._pyforest_update_imports_cell('import fastai\\nfrom sklearn.linear_model import LogisticRegression\\nimport seaborn as sns\\nimport pandas as pd\\nfrom sklearn.preprocessing import OneHotEncoder\\nfrom sklearn.feature_extraction.text import TfidfVectorizer\\nfrom statsmodels.tsa.arima_model import ARIMA\\nimport altair as alt\\nfrom sklearn.ensemble import GradientBoostingRegressor\\nimport plotly as py\\nimport sys\\nfrom sklearn.ensemble import GradientBoostingClassifier\\nfrom scipy import stats\\nimport cv2\\nfrom sklearn.model_selection import train_test_split\\nimport re\\nimport lightgbm as lgb\\nfrom PIL import Image\\nfrom sklearn.linear_model import LinearRegression\\nfrom sklearn.preprocessing import MinMaxScaler\\nfrom sklearn.preprocessing import LabelEncoder\\nimport tensorflow as tf\\nimport tqdm\\nimport pydot\\nfrom sklearn.linear_model import ElasticNetCV\\nfrom sklearn.linear_model import Lasso\\nfrom scipy import signal as sg\\nfrom sklearn.model_selection import GridSearchCV\\nimport plotly.express as px\\nimport torch\\nfrom pathlib import Path\\nfrom sklearn.linear_model import LassoCV\\nfrom sklearn.linear_model import ElasticNet\\nimport spacy\\nfrom sklearn.decomposition import PCA\\nfrom sklearn.model_selection import cross_val_score\\nimport statsmodels.api as sm\\nimport textblob\\nimport sklearn\\nfrom sklearn.model_selection import KFold\\nfrom sklearn import svm\\nimport imutils\\nimport statistics\\nfrom sklearn.feature_extraction.text import CountVectorizer\\nimport skimage\\nfrom sklearn.preprocessing import PolynomialFeatures\\nimport pickle\\nfrom openpyxl import load_workbook\\nfrom sklearn.cluster import KMeans\\nimport matplotlib.pyplot as plt\\nfrom sklearn.manifold import TSNE'); }\n",
              "    "
            ]
          },
          "metadata": {}
        },
        {
          "output_type": "stream",
          "name": "stderr",
          "text": [
            "/usr/local/lib/python3.8/dist-packages/seaborn/_decorators.py:36: FutureWarning: Pass the following variable as a keyword arg: x. From version 0.12, the only valid positional argument will be `data`, and passing other arguments without an explicit keyword will result in an error or misinterpretation.\n",
            "  warnings.warn(\n"
          ]
        },
        {
          "output_type": "display_data",
          "data": {
            "text/plain": [
              "<IPython.core.display.Javascript object>"
            ],
            "application/javascript": [
              "\n",
              "        if (window._pyforest_update_imports_cell) { window._pyforest_update_imports_cell('import fastai\\nfrom sklearn.linear_model import LogisticRegression\\nimport seaborn as sns\\nimport pandas as pd\\nfrom sklearn.preprocessing import OneHotEncoder\\nfrom sklearn.feature_extraction.text import TfidfVectorizer\\nfrom statsmodels.tsa.arima_model import ARIMA\\nimport altair as alt\\nfrom sklearn.ensemble import GradientBoostingRegressor\\nimport plotly as py\\nimport sys\\nfrom sklearn.ensemble import GradientBoostingClassifier\\nfrom scipy import stats\\nimport cv2\\nfrom sklearn.model_selection import train_test_split\\nimport re\\nimport lightgbm as lgb\\nfrom PIL import Image\\nfrom sklearn.linear_model import LinearRegression\\nfrom sklearn.preprocessing import MinMaxScaler\\nfrom sklearn.preprocessing import LabelEncoder\\nimport tensorflow as tf\\nimport tqdm\\nimport pydot\\nfrom sklearn.linear_model import ElasticNetCV\\nfrom sklearn.linear_model import Lasso\\nfrom scipy import signal as sg\\nfrom sklearn.model_selection import GridSearchCV\\nimport plotly.express as px\\nimport torch\\nfrom pathlib import Path\\nfrom sklearn.linear_model import LassoCV\\nfrom sklearn.linear_model import ElasticNet\\nimport spacy\\nfrom sklearn.decomposition import PCA\\nfrom sklearn.model_selection import cross_val_score\\nimport statsmodels.api as sm\\nimport textblob\\nimport sklearn\\nfrom sklearn.model_selection import KFold\\nfrom sklearn import svm\\nimport imutils\\nimport statistics\\nfrom sklearn.feature_extraction.text import CountVectorizer\\nimport skimage\\nfrom sklearn.preprocessing import PolynomialFeatures\\nimport pickle\\nfrom openpyxl import load_workbook\\nfrom sklearn.cluster import KMeans\\nimport matplotlib.pyplot as plt\\nfrom sklearn.manifold import TSNE'); }\n",
              "    "
            ]
          },
          "metadata": {}
        },
        {
          "output_type": "display_data",
          "data": {
            "text/plain": [
              "<Figure size 432x288 with 1 Axes>"
            ],
            "image/png": "[encoded data removed]"
          },
          "metadata": {
            "needs_background": "light"
          }
        },
        {
          "output_type": "display_data",
          "data": {
            "text/plain": [
              "<IPython.core.display.Javascript object>"
            ],
            "application/javascript": [
              "\n",
              "        if (window._pyforest_update_imports_cell) { window._pyforest_update_imports_cell('import fastai\\nfrom sklearn.linear_model import LogisticRegression\\nimport seaborn as sns\\nimport pandas as pd\\nfrom sklearn.preprocessing import OneHotEncoder\\nfrom sklearn.feature_extraction.text import TfidfVectorizer\\nfrom statsmodels.tsa.arima_model import ARIMA\\nimport altair as alt\\nfrom sklearn.ensemble import GradientBoostingRegressor\\nimport plotly as py\\nimport sys\\nfrom sklearn.ensemble import GradientBoostingClassifier\\nfrom scipy import stats\\nimport cv2\\nfrom sklearn.model_selection import train_test_split\\nimport re\\nimport lightgbm as lgb\\nfrom PIL import Image\\nfrom sklearn.linear_model import LinearRegression\\nfrom sklearn.preprocessing import MinMaxScaler\\nfrom sklearn.preprocessing import LabelEncoder\\nimport tensorflow as tf\\nimport tqdm\\nimport pydot\\nfrom sklearn.linear_model import ElasticNetCV\\nfrom sklearn.linear_model import Lasso\\nfrom scipy import signal as sg\\nfrom sklearn.model_selection import GridSearchCV\\nimport plotly.express as px\\nimport torch\\nfrom pathlib import Path\\nfrom sklearn.linear_model import LassoCV\\nfrom sklearn.linear_model import ElasticNet\\nimport spacy\\nfrom sklearn.decomposition import PCA\\nfrom sklearn.model_selection import cross_val_score\\nimport statsmodels.api as sm\\nimport textblob\\nimport sklearn\\nfrom sklearn.model_selection import KFold\\nfrom sklearn import svm\\nimport imutils\\nimport statistics\\nfrom sklearn.feature_extraction.text import CountVectorizer\\nimport skimage\\nfrom sklearn.preprocessing import PolynomialFeatures\\nimport pickle\\nfrom openpyxl import load_workbook\\nfrom sklearn.cluster import KMeans\\nimport matplotlib.pyplot as plt\\nfrom sklearn.manifold import TSNE'); }\n",
              "    "
            ]
          },
          "metadata": {}
        },
        {
          "output_type": "stream",
          "name": "stderr",
          "text": [
            "/usr/local/lib/python3.8/dist-packages/seaborn/_decorators.py:36: FutureWarning: Pass the following variable as a keyword arg: x. From version 0.12, the only valid positional argument will be `data`, and passing other arguments without an explicit keyword will result in an error or misinterpretation.\n",
            "  warnings.warn(\n"
          ]
        },
        {
          "output_type": "display_data",
          "data": {
            "text/plain": [
              "<IPython.core.display.Javascript object>"
            ],
            "application/javascript": [
              "\n",
              "        if (window._pyforest_update_imports_cell) { window._pyforest_update_imports_cell('import fastai\\nfrom sklearn.linear_model import LogisticRegression\\nimport seaborn as sns\\nimport pandas as pd\\nfrom sklearn.preprocessing import OneHotEncoder\\nfrom sklearn.feature_extraction.text import TfidfVectorizer\\nfrom statsmodels.tsa.arima_model import ARIMA\\nimport altair as alt\\nfrom sklearn.ensemble import GradientBoostingRegressor\\nimport plotly as py\\nimport sys\\nfrom sklearn.ensemble import GradientBoostingClassifier\\nfrom scipy import stats\\nimport cv2\\nfrom sklearn.model_selection import train_test_split\\nimport re\\nimport lightgbm as lgb\\nfrom PIL import Image\\nfrom sklearn.linear_model import LinearRegression\\nfrom sklearn.preprocessing import MinMaxScaler\\nfrom sklearn.preprocessing import LabelEncoder\\nimport tensorflow as tf\\nimport tqdm\\nimport pydot\\nfrom sklearn.linear_model import ElasticNetCV\\nfrom sklearn.linear_model import Lasso\\nfrom scipy import signal as sg\\nfrom sklearn.model_selection import GridSearchCV\\nimport plotly.express as px\\nimport torch\\nfrom pathlib import Path\\nfrom sklearn.linear_model import LassoCV\\nfrom sklearn.linear_model import ElasticNet\\nimport spacy\\nfrom sklearn.decomposition import PCA\\nfrom sklearn.model_selection import cross_val_score\\nimport statsmodels.api as sm\\nimport textblob\\nimport sklearn\\nfrom sklearn.model_selection import KFold\\nfrom sklearn import svm\\nimport imutils\\nimport statistics\\nfrom sklearn.feature_extraction.text import CountVectorizer\\nimport skimage\\nfrom sklearn.preprocessing import PolynomialFeatures\\nimport pickle\\nfrom openpyxl import load_workbook\\nfrom sklearn.cluster import KMeans\\nimport matplotlib.pyplot as plt\\nfrom sklearn.manifold import TSNE'); }\n",
              "    "
            ]
          },
          "metadata": {}
        },
        {
          "output_type": "display_data",
          "data": {
            "text/plain": [
              "<Figure size 432x288 with 1 Axes>"
            ],
            "image/png": "[encoded data removed]"
          },
          "metadata": {
            "needs_background": "light"
          }
        },
        {
          "output_type": "display_data",
          "data": {
            "text/plain": [
              "<IPython.core.display.Javascript object>"
            ],
            "application/javascript": [
              "\n",
              "        if (window._pyforest_update_imports_cell) { window._pyforest_update_imports_cell('import fastai\\nfrom sklearn.linear_model import LogisticRegression\\nimport seaborn as sns\\nimport pandas as pd\\nfrom sklearn.preprocessing import OneHotEncoder\\nfrom sklearn.feature_extraction.text import TfidfVectorizer\\nfrom statsmodels.tsa.arima_model import ARIMA\\nimport altair as alt\\nfrom sklearn.ensemble import GradientBoostingRegressor\\nimport plotly as py\\nimport sys\\nfrom sklearn.ensemble import GradientBoostingClassifier\\nfrom scipy import stats\\nimport cv2\\nfrom sklearn.model_selection import train_test_split\\nimport re\\nimport lightgbm as lgb\\nfrom PIL import Image\\nfrom sklearn.linear_model import LinearRegression\\nfrom sklearn.preprocessing import MinMaxScaler\\nfrom sklearn.preprocessing import LabelEncoder\\nimport tensorflow as tf\\nimport tqdm\\nimport pydot\\nfrom sklearn.linear_model import ElasticNetCV\\nfrom sklearn.linear_model import Lasso\\nfrom scipy import signal as sg\\nfrom sklearn.model_selection import GridSearchCV\\nimport plotly.express as px\\nimport torch\\nfrom pathlib import Path\\nfrom sklearn.linear_model import LassoCV\\nfrom sklearn.linear_model import ElasticNet\\nimport spacy\\nfrom sklearn.decomposition import PCA\\nfrom sklearn.model_selection import cross_val_score\\nimport statsmodels.api as sm\\nimport textblob\\nimport sklearn\\nfrom sklearn.model_selection import KFold\\nfrom sklearn import svm\\nimport imutils\\nimport statistics\\nfrom sklearn.feature_extraction.text import CountVectorizer\\nimport skimage\\nfrom sklearn.preprocessing import PolynomialFeatures\\nimport pickle\\nfrom openpyxl import load_workbook\\nfrom sklearn.cluster import KMeans\\nimport matplotlib.pyplot as plt\\nfrom sklearn.manifold import TSNE'); }\n",
              "    "
            ]
          },
          "metadata": {}
        },
        {
          "output_type": "stream",
          "name": "stderr",
          "text": [
            "/usr/local/lib/python3.8/dist-packages/seaborn/_decorators.py:36: FutureWarning: Pass the following variable as a keyword arg: x. From version 0.12, the only valid positional argument will be `data`, and passing other arguments without an explicit keyword will result in an error or misinterpretation.\n",
            "  warnings.warn(\n"
          ]
        },
        {
          "output_type": "display_data",
          "data": {
            "text/plain": [
              "<IPython.core.display.Javascript object>"
            ],
            "application/javascript": [
              "\n",
              "        if (window._pyforest_update_imports_cell) { window._pyforest_update_imports_cell('import fastai\\nfrom sklearn.linear_model import LogisticRegression\\nimport seaborn as sns\\nimport pandas as pd\\nfrom sklearn.preprocessing import OneHotEncoder\\nfrom sklearn.feature_extraction.text import TfidfVectorizer\\nfrom statsmodels.tsa.arima_model import ARIMA\\nimport altair as alt\\nfrom sklearn.ensemble import GradientBoostingRegressor\\nimport plotly as py\\nimport sys\\nfrom sklearn.ensemble import GradientBoostingClassifier\\nfrom scipy import stats\\nimport cv2\\nfrom sklearn.model_selection import train_test_split\\nimport re\\nimport lightgbm as lgb\\nfrom PIL import Image\\nfrom sklearn.linear_model import LinearRegression\\nfrom sklearn.preprocessing import MinMaxScaler\\nfrom sklearn.preprocessing import LabelEncoder\\nimport tensorflow as tf\\nimport tqdm\\nimport pydot\\nfrom sklearn.linear_model import ElasticNetCV\\nfrom sklearn.linear_model import Lasso\\nfrom scipy import signal as sg\\nfrom sklearn.model_selection import GridSearchCV\\nimport plotly.express as px\\nimport torch\\nfrom pathlib import Path\\nfrom sklearn.linear_model import LassoCV\\nfrom sklearn.linear_model import ElasticNet\\nimport spacy\\nfrom sklearn.decomposition import PCA\\nfrom sklearn.model_selection import cross_val_score\\nimport statsmodels.api as sm\\nimport textblob\\nimport sklearn\\nfrom sklearn.model_selection import KFold\\nfrom sklearn import svm\\nimport imutils\\nimport statistics\\nfrom sklearn.feature_extraction.text import CountVectorizer\\nimport skimage\\nfrom sklearn.preprocessing import PolynomialFeatures\\nimport pickle\\nfrom openpyxl import load_workbook\\nfrom sklearn.cluster import KMeans\\nimport matplotlib.pyplot as plt\\nfrom sklearn.manifold import TSNE'); }\n",
              "    "
            ]
          },
          "metadata": {}
        },
        {
          "output_type": "display_data",
          "data": {
            "text/plain": [
              "<Figure size 432x288 with 1 Axes>"
            ],
            "image/png": "[encoded data removed]"
          },
          "metadata": {
            "needs_background": "light"
          }
        },
        {
          "output_type": "display_data",
          "data": {
            "text/plain": [
              "<IPython.core.display.Javascript object>"
            ],
            "application/javascript": [
              "\n",
              "        if (window._pyforest_update_imports_cell) { window._pyforest_update_imports_cell('import fastai\\nfrom sklearn.linear_model import LogisticRegression\\nimport seaborn as sns\\nimport pandas as pd\\nfrom sklearn.preprocessing import OneHotEncoder\\nfrom sklearn.feature_extraction.text import TfidfVectorizer\\nfrom statsmodels.tsa.arima_model import ARIMA\\nimport altair as alt\\nfrom sklearn.ensemble import GradientBoostingRegressor\\nimport plotly as py\\nimport sys\\nfrom sklearn.ensemble import GradientBoostingClassifier\\nfrom scipy import stats\\nimport cv2\\nfrom sklearn.model_selection import train_test_split\\nimport re\\nimport lightgbm as lgb\\nfrom PIL import Image\\nfrom sklearn.linear_model import LinearRegression\\nfrom sklearn.preprocessing import MinMaxScaler\\nfrom sklearn.preprocessing import LabelEncoder\\nimport tensorflow as tf\\nimport tqdm\\nimport pydot\\nfrom sklearn.linear_model import ElasticNetCV\\nfrom sklearn.linear_model import Lasso\\nfrom scipy import signal as sg\\nfrom sklearn.model_selection import GridSearchCV\\nimport plotly.express as px\\nimport torch\\nfrom pathlib import Path\\nfrom sklearn.linear_model import LassoCV\\nfrom sklearn.linear_model import ElasticNet\\nimport spacy\\nfrom sklearn.decomposition import PCA\\nfrom sklearn.model_selection import cross_val_score\\nimport statsmodels.api as sm\\nimport textblob\\nimport sklearn\\nfrom sklearn.model_selection import KFold\\nfrom sklearn import svm\\nimport imutils\\nimport statistics\\nfrom sklearn.feature_extraction.text import CountVectorizer\\nimport skimage\\nfrom sklearn.preprocessing import PolynomialFeatures\\nimport pickle\\nfrom openpyxl import load_workbook\\nfrom sklearn.cluster import KMeans\\nimport matplotlib.pyplot as plt\\nfrom sklearn.manifold import TSNE'); }\n",
              "    "
            ]
          },
          "metadata": {}
        },
        {
          "output_type": "stream",
          "name": "stderr",
          "text": [
            "/usr/local/lib/python3.8/dist-packages/seaborn/_decorators.py:36: FutureWarning: Pass the following variable as a keyword arg: x. From version 0.12, the only valid positional argument will be `data`, and passing other arguments without an explicit keyword will result in an error or misinterpretation.\n",
            "  warnings.warn(\n"
          ]
        },
        {
          "output_type": "display_data",
          "data": {
            "text/plain": [
              "<IPython.core.display.Javascript object>"
            ],
            "application/javascript": [
              "\n",
              "        if (window._pyforest_update_imports_cell) { window._pyforest_update_imports_cell('import fastai\\nfrom sklearn.linear_model import LogisticRegression\\nimport seaborn as sns\\nimport pandas as pd\\nfrom sklearn.preprocessing import OneHotEncoder\\nfrom sklearn.feature_extraction.text import TfidfVectorizer\\nfrom statsmodels.tsa.arima_model import ARIMA\\nimport altair as alt\\nfrom sklearn.ensemble import GradientBoostingRegressor\\nimport plotly as py\\nimport sys\\nfrom sklearn.ensemble import GradientBoostingClassifier\\nfrom scipy import stats\\nimport cv2\\nfrom sklearn.model_selection import train_test_split\\nimport re\\nimport lightgbm as lgb\\nfrom PIL import Image\\nfrom sklearn.linear_model import LinearRegression\\nfrom sklearn.preprocessing import MinMaxScaler\\nfrom sklearn.preprocessing import LabelEncoder\\nimport tensorflow as tf\\nimport tqdm\\nimport pydot\\nfrom sklearn.linear_model import ElasticNetCV\\nfrom sklearn.linear_model import Lasso\\nfrom scipy import signal as sg\\nfrom sklearn.model_selection import GridSearchCV\\nimport plotly.express as px\\nimport torch\\nfrom pathlib import Path\\nfrom sklearn.linear_model import LassoCV\\nfrom sklearn.linear_model import ElasticNet\\nimport spacy\\nfrom sklearn.decomposition import PCA\\nfrom sklearn.model_selection import cross_val_score\\nimport statsmodels.api as sm\\nimport textblob\\nimport sklearn\\nfrom sklearn.model_selection import KFold\\nfrom sklearn import svm\\nimport imutils\\nimport statistics\\nfrom sklearn.feature_extraction.text import CountVectorizer\\nimport skimage\\nfrom sklearn.preprocessing import PolynomialFeatures\\nimport pickle\\nfrom openpyxl import load_workbook\\nfrom sklearn.cluster import KMeans\\nimport matplotlib.pyplot as plt\\nfrom sklearn.manifold import TSNE'); }\n",
              "    "
            ]
          },
          "metadata": {}
        },
        {
          "output_type": "display_data",
          "data": {
            "text/plain": [
              "<Figure size 432x288 with 1 Axes>"
            ],
            "image/png": "[encoded data removed]"
          },
          "metadata": {
            "needs_background": "light"
          }
        },
        {
          "output_type": "display_data",
          "data": {
            "text/plain": [
              "<IPython.core.display.Javascript object>"
            ],
            "application/javascript": [
              "\n",
              "        if (window._pyforest_update_imports_cell) { window._pyforest_update_imports_cell('import fastai\\nfrom sklearn.linear_model import LogisticRegression\\nimport seaborn as sns\\nimport pandas as pd\\nfrom sklearn.preprocessing import OneHotEncoder\\nfrom sklearn.feature_extraction.text import TfidfVectorizer\\nfrom statsmodels.tsa.arima_model import ARIMA\\nimport altair as alt\\nfrom sklearn.ensemble import GradientBoostingRegressor\\nimport plotly as py\\nimport sys\\nfrom sklearn.ensemble import GradientBoostingClassifier\\nfrom scipy import stats\\nimport cv2\\nfrom sklearn.model_selection import train_test_split\\nimport re\\nimport lightgbm as lgb\\nfrom PIL import Image\\nfrom sklearn.linear_model import LinearRegression\\nfrom sklearn.preprocessing import MinMaxScaler\\nfrom sklearn.preprocessing import LabelEncoder\\nimport tensorflow as tf\\nimport tqdm\\nimport pydot\\nfrom sklearn.linear_model import ElasticNetCV\\nfrom sklearn.linear_model import Lasso\\nfrom scipy import signal as sg\\nfrom sklearn.model_selection import GridSearchCV\\nimport plotly.express as px\\nimport torch\\nfrom pathlib import Path\\nfrom sklearn.linear_model import LassoCV\\nfrom sklearn.linear_model import ElasticNet\\nimport spacy\\nfrom sklearn.decomposition import PCA\\nfrom sklearn.model_selection import cross_val_score\\nimport statsmodels.api as sm\\nimport textblob\\nimport sklearn\\nfrom sklearn.model_selection import KFold\\nfrom sklearn import svm\\nimport imutils\\nimport statistics\\nfrom sklearn.feature_extraction.text import CountVectorizer\\nimport skimage\\nfrom sklearn.preprocessing import PolynomialFeatures\\nimport pickle\\nfrom openpyxl import load_workbook\\nfrom sklearn.cluster import KMeans\\nimport matplotlib.pyplot as plt\\nfrom sklearn.manifold import TSNE'); }\n",
              "    "
            ]
          },
          "metadata": {}
        },
        {
          "output_type": "stream",
          "name": "stderr",
          "text": [
            "/usr/local/lib/python3.8/dist-packages/seaborn/_decorators.py:36: FutureWarning: Pass the following variable as a keyword arg: x. From version 0.12, the only valid positional argument will be `data`, and passing other arguments without an explicit keyword will result in an error or misinterpretation.\n",
            "  warnings.warn(\n"
          ]
        },
        {
          "output_type": "display_data",
          "data": {
            "text/plain": [
              "<IPython.core.display.Javascript object>"
            ],
            "application/javascript": [
              "\n",
              "        if (window._pyforest_update_imports_cell) { window._pyforest_update_imports_cell('import fastai\\nfrom sklearn.linear_model import LogisticRegression\\nimport seaborn as sns\\nimport pandas as pd\\nfrom sklearn.preprocessing import OneHotEncoder\\nfrom sklearn.feature_extraction.text import TfidfVectorizer\\nfrom statsmodels.tsa.arima_model import ARIMA\\nimport altair as alt\\nfrom sklearn.ensemble import GradientBoostingRegressor\\nimport plotly as py\\nimport sys\\nfrom sklearn.ensemble import GradientBoostingClassifier\\nfrom scipy import stats\\nimport cv2\\nfrom sklearn.model_selection import train_test_split\\nimport re\\nimport lightgbm as lgb\\nfrom PIL import Image\\nfrom sklearn.linear_model import LinearRegression\\nfrom sklearn.preprocessing import MinMaxScaler\\nfrom sklearn.preprocessing import LabelEncoder\\nimport tensorflow as tf\\nimport tqdm\\nimport pydot\\nfrom sklearn.linear_model import ElasticNetCV\\nfrom sklearn.linear_model import Lasso\\nfrom scipy import signal as sg\\nfrom sklearn.model_selection import GridSearchCV\\nimport plotly.express as px\\nimport torch\\nfrom pathlib import Path\\nfrom sklearn.linear_model import LassoCV\\nfrom sklearn.linear_model import ElasticNet\\nimport spacy\\nfrom sklearn.decomposition import PCA\\nfrom sklearn.model_selection import cross_val_score\\nimport statsmodels.api as sm\\nimport textblob\\nimport sklearn\\nfrom sklearn.model_selection import KFold\\nfrom sklearn import svm\\nimport imutils\\nimport statistics\\nfrom sklearn.feature_extraction.text import CountVectorizer\\nimport skimage\\nfrom sklearn.preprocessing import PolynomialFeatures\\nimport pickle\\nfrom openpyxl import load_workbook\\nfrom sklearn.cluster import KMeans\\nimport matplotlib.pyplot as plt\\nfrom sklearn.manifold import TSNE'); }\n",
              "    "
            ]
          },
          "metadata": {}
        },
        {
          "output_type": "display_data",
          "data": {
            "text/plain": [
              "<Figure size 432x288 with 1 Axes>"
            ],
            "image/png": "[encoded data removed]"
          },
          "metadata": {
            "needs_background": "light"
          }
        },
        {
          "output_type": "display_data",
          "data": {
            "text/plain": [
              "<IPython.core.display.Javascript object>"
            ],
            "application/javascript": [
              "\n",
              "        if (window._pyforest_update_imports_cell) { window._pyforest_update_imports_cell('import fastai\\nfrom sklearn.linear_model import LogisticRegression\\nimport seaborn as sns\\nimport pandas as pd\\nfrom sklearn.preprocessing import OneHotEncoder\\nfrom sklearn.feature_extraction.text import TfidfVectorizer\\nfrom statsmodels.tsa.arima_model import ARIMA\\nimport altair as alt\\nfrom sklearn.ensemble import GradientBoostingRegressor\\nimport plotly as py\\nimport sys\\nfrom sklearn.ensemble import GradientBoostingClassifier\\nfrom scipy import stats\\nimport cv2\\nfrom sklearn.model_selection import train_test_split\\nimport re\\nimport lightgbm as lgb\\nfrom PIL import Image\\nfrom sklearn.linear_model import LinearRegression\\nfrom sklearn.preprocessing import MinMaxScaler\\nfrom sklearn.preprocessing import LabelEncoder\\nimport tensorflow as tf\\nimport tqdm\\nimport pydot\\nfrom sklearn.linear_model import ElasticNetCV\\nfrom sklearn.linear_model import Lasso\\nfrom scipy import signal as sg\\nfrom sklearn.model_selection import GridSearchCV\\nimport plotly.express as px\\nimport torch\\nfrom pathlib import Path\\nfrom sklearn.linear_model import LassoCV\\nfrom sklearn.linear_model import ElasticNet\\nimport spacy\\nfrom sklearn.decomposition import PCA\\nfrom sklearn.model_selection import cross_val_score\\nimport statsmodels.api as sm\\nimport textblob\\nimport sklearn\\nfrom sklearn.model_selection import KFold\\nfrom sklearn import svm\\nimport imutils\\nimport statistics\\nfrom sklearn.feature_extraction.text import CountVectorizer\\nimport skimage\\nfrom sklearn.preprocessing import PolynomialFeatures\\nimport pickle\\nfrom openpyxl import load_workbook\\nfrom sklearn.cluster import KMeans\\nimport matplotlib.pyplot as plt\\nfrom sklearn.manifold import TSNE'); }\n",
              "    "
            ]
          },
          "metadata": {}
        },
        {
          "output_type": "stream",
          "name": "stderr",
          "text": [
            "/usr/local/lib/python3.8/dist-packages/seaborn/_decorators.py:36: FutureWarning: Pass the following variable as a keyword arg: x. From version 0.12, the only valid positional argument will be `data`, and passing other arguments without an explicit keyword will result in an error or misinterpretation.\n",
            "  warnings.warn(\n"
          ]
        },
        {
          "output_type": "display_data",
          "data": {
            "text/plain": [
              "<IPython.core.display.Javascript object>"
            ],
            "application/javascript": [
              "\n",
              "        if (window._pyforest_update_imports_cell) { window._pyforest_update_imports_cell('import fastai\\nfrom sklearn.linear_model import LogisticRegression\\nimport seaborn as sns\\nimport pandas as pd\\nfrom sklearn.preprocessing import OneHotEncoder\\nfrom sklearn.feature_extraction.text import TfidfVectorizer\\nfrom statsmodels.tsa.arima_model import ARIMA\\nimport altair as alt\\nfrom sklearn.ensemble import GradientBoostingRegressor\\nimport plotly as py\\nimport sys\\nfrom sklearn.ensemble import GradientBoostingClassifier\\nfrom scipy import stats\\nimport cv2\\nfrom sklearn.model_selection import train_test_split\\nimport re\\nimport lightgbm as lgb\\nfrom PIL import Image\\nfrom sklearn.linear_model import LinearRegression\\nfrom sklearn.preprocessing import MinMaxScaler\\nfrom sklearn.preprocessing import LabelEncoder\\nimport tensorflow as tf\\nimport tqdm\\nimport pydot\\nfrom sklearn.linear_model import ElasticNetCV\\nfrom sklearn.linear_model import Lasso\\nfrom scipy import signal as sg\\nfrom sklearn.model_selection import GridSearchCV\\nimport plotly.express as px\\nimport torch\\nfrom pathlib import Path\\nfrom sklearn.linear_model import LassoCV\\nfrom sklearn.linear_model import ElasticNet\\nimport spacy\\nfrom sklearn.decomposition import PCA\\nfrom sklearn.model_selection import cross_val_score\\nimport statsmodels.api as sm\\nimport textblob\\nimport sklearn\\nfrom sklearn.model_selection import KFold\\nfrom sklearn import svm\\nimport imutils\\nimport statistics\\nfrom sklearn.feature_extraction.text import CountVectorizer\\nimport skimage\\nfrom sklearn.preprocessing import PolynomialFeatures\\nimport pickle\\nfrom openpyxl import load_workbook\\nfrom sklearn.cluster import KMeans\\nimport matplotlib.pyplot as plt\\nfrom sklearn.manifold import TSNE'); }\n",
              "    "
            ]
          },
          "metadata": {}
        },
        {
          "output_type": "display_data",
          "data": {
            "text/plain": [
              "<Figure size 432x288 with 1 Axes>"
            ],
            "image/png": "[encoded data removed]"
          },
          "metadata": {
            "needs_background": "light"
          }
        },
        {
          "output_type": "display_data",
          "data": {
            "text/plain": [
              "<IPython.core.display.Javascript object>"
            ],
            "application/javascript": [
              "\n",
              "        if (window._pyforest_update_imports_cell) { window._pyforest_update_imports_cell('import fastai\\nfrom sklearn.linear_model import LogisticRegression\\nimport seaborn as sns\\nimport pandas as pd\\nfrom sklearn.preprocessing import OneHotEncoder\\nfrom sklearn.feature_extraction.text import TfidfVectorizer\\nfrom statsmodels.tsa.arima_model import ARIMA\\nimport altair as alt\\nfrom sklearn.ensemble import GradientBoostingRegressor\\nimport plotly as py\\nimport sys\\nfrom sklearn.ensemble import GradientBoostingClassifier\\nfrom scipy import stats\\nimport cv2\\nfrom sklearn.model_selection import train_test_split\\nimport re\\nimport lightgbm as lgb\\nfrom PIL import Image\\nfrom sklearn.linear_model import LinearRegression\\nfrom sklearn.preprocessing import MinMaxScaler\\nfrom sklearn.preprocessing import LabelEncoder\\nimport tensorflow as tf\\nimport tqdm\\nimport pydot\\nfrom sklearn.linear_model import ElasticNetCV\\nfrom sklearn.linear_model import Lasso\\nfrom scipy import signal as sg\\nfrom sklearn.model_selection import GridSearchCV\\nimport plotly.express as px\\nimport torch\\nfrom pathlib import Path\\nfrom sklearn.linear_model import LassoCV\\nfrom sklearn.linear_model import ElasticNet\\nimport spacy\\nfrom sklearn.decomposition import PCA\\nfrom sklearn.model_selection import cross_val_score\\nimport statsmodels.api as sm\\nimport textblob\\nimport sklearn\\nfrom sklearn.model_selection import KFold\\nfrom sklearn import svm\\nimport imutils\\nimport statistics\\nfrom sklearn.feature_extraction.text import CountVectorizer\\nimport skimage\\nfrom sklearn.preprocessing import PolynomialFeatures\\nimport pickle\\nfrom openpyxl import load_workbook\\nfrom sklearn.cluster import KMeans\\nimport matplotlib.pyplot as plt\\nfrom sklearn.manifold import TSNE'); }\n",
              "    "
            ]
          },
          "metadata": {}
        },
        {
          "output_type": "stream",
          "name": "stderr",
          "text": [
            "/usr/local/lib/python3.8/dist-packages/seaborn/_decorators.py:36: FutureWarning: Pass the following variable as a keyword arg: x. From version 0.12, the only valid positional argument will be `data`, and passing other arguments without an explicit keyword will result in an error or misinterpretation.\n",
            "  warnings.warn(\n"
          ]
        },
        {
          "output_type": "display_data",
          "data": {
            "text/plain": [
              "<IPython.core.display.Javascript object>"
            ],
            "application/javascript": [
              "\n",
              "        if (window._pyforest_update_imports_cell) { window._pyforest_update_imports_cell('import fastai\\nfrom sklearn.linear_model import LogisticRegression\\nimport seaborn as sns\\nimport pandas as pd\\nfrom sklearn.preprocessing import OneHotEncoder\\nfrom sklearn.feature_extraction.text import TfidfVectorizer\\nfrom statsmodels.tsa.arima_model import ARIMA\\nimport altair as alt\\nfrom sklearn.ensemble import GradientBoostingRegressor\\nimport plotly as py\\nimport sys\\nfrom sklearn.ensemble import GradientBoostingClassifier\\nfrom scipy import stats\\nimport cv2\\nfrom sklearn.model_selection import train_test_split\\nimport re\\nimport lightgbm as lgb\\nfrom PIL import Image\\nfrom sklearn.linear_model import LinearRegression\\nfrom sklearn.preprocessing import MinMaxScaler\\nfrom sklearn.preprocessing import LabelEncoder\\nimport tensorflow as tf\\nimport tqdm\\nimport pydot\\nfrom sklearn.linear_model import ElasticNetCV\\nfrom sklearn.linear_model import Lasso\\nfrom scipy import signal as sg\\nfrom sklearn.model_selection import GridSearchCV\\nimport plotly.express as px\\nimport torch\\nfrom pathlib import Path\\nfrom sklearn.linear_model import LassoCV\\nfrom sklearn.linear_model import ElasticNet\\nimport spacy\\nfrom sklearn.decomposition import PCA\\nfrom sklearn.model_selection import cross_val_score\\nimport statsmodels.api as sm\\nimport textblob\\nimport sklearn\\nfrom sklearn.model_selection import KFold\\nfrom sklearn import svm\\nimport imutils\\nimport statistics\\nfrom sklearn.feature_extraction.text import CountVectorizer\\nimport skimage\\nfrom sklearn.preprocessing import PolynomialFeatures\\nimport pickle\\nfrom openpyxl import load_workbook\\nfrom sklearn.cluster import KMeans\\nimport matplotlib.pyplot as plt\\nfrom sklearn.manifold import TSNE'); }\n",
              "    "
            ]
          },
          "metadata": {}
        },
        {
          "output_type": "display_data",
          "data": {
            "text/plain": [
              "<Figure size 432x288 with 1 Axes>"
            ],
            "image/png": "[encoded data removed]"
          },
          "metadata": {
            "needs_background": "light"
          }
        }
      ]
    },
    {
      "cell_type": "markdown",
      "source": [
        "###Correlation"
      ],
      "metadata": {
        "id": "P-WiifIDxJh0"
      }
    },
    {
      "cell_type": "code",
      "source": [
        "plt.figure(figsize=(15,8))\n",
        "sns.heatmap(traindf.corr(), annot=True, cmap='viridis', linewidth=1)"
      ],
      "metadata": {
        "colab": {
          "base_uri": "https://localhost:8080/",
          "height": 591
        },
        "id": "dVBB8YSkw4lo",
        "outputId": "8714f721-ccb1-40a3-db46-26d3d12726f5"
      },
      "execution_count": 37,
      "outputs": [
        {
          "output_type": "display_data",
          "data": {
            "text/plain": [
              "<IPython.core.display.Javascript object>"
            ],
            "application/javascript": [
              "\n",
              "        if (window._pyforest_update_imports_cell) { window._pyforest_update_imports_cell('import fastai\\nfrom sklearn.linear_model import LogisticRegression\\nimport seaborn as sns\\nimport pandas as pd\\nfrom sklearn.preprocessing import OneHotEncoder\\nfrom sklearn.feature_extraction.text import TfidfVectorizer\\nfrom statsmodels.tsa.arima_model import ARIMA\\nimport altair as alt\\nfrom sklearn.ensemble import GradientBoostingRegressor\\nimport plotly as py\\nimport sys\\nfrom sklearn.ensemble import GradientBoostingClassifier\\nfrom scipy import stats\\nimport cv2\\nfrom sklearn.model_selection import train_test_split\\nimport re\\nimport lightgbm as lgb\\nfrom PIL import Image\\nfrom sklearn.linear_model import LinearRegression\\nfrom sklearn.preprocessing import MinMaxScaler\\nfrom sklearn.preprocessing import LabelEncoder\\nimport tensorflow as tf\\nimport tqdm\\nimport pydot\\nfrom sklearn.linear_model import ElasticNetCV\\nfrom sklearn.linear_model import Lasso\\nfrom scipy import signal as sg\\nfrom sklearn.model_selection import GridSearchCV\\nimport plotly.express as px\\nimport torch\\nfrom pathlib import Path\\nfrom sklearn.linear_model import LassoCV\\nfrom sklearn.linear_model import ElasticNet\\nimport spacy\\nfrom sklearn.decomposition import PCA\\nfrom sklearn.model_selection import cross_val_score\\nimport statsmodels.api as sm\\nimport textblob\\nimport sklearn\\nfrom sklearn.model_selection import KFold\\nfrom sklearn import svm\\nimport imutils\\nimport statistics\\nfrom sklearn.feature_extraction.text import CountVectorizer\\nimport skimage\\nfrom sklearn.preprocessing import PolynomialFeatures\\nimport pickle\\nfrom openpyxl import load_workbook\\nfrom sklearn.cluster import KMeans\\nimport matplotlib.pyplot as plt\\nfrom sklearn.manifold import TSNE'); }\n",
              "    "
            ]
          },
          "metadata": {}
        },
        {
          "output_type": "display_data",
          "data": {
            "text/plain": [
              "<IPython.core.display.Javascript object>"
            ],
            "application/javascript": [
              "\n",
              "        if (window._pyforest_update_imports_cell) { window._pyforest_update_imports_cell('import fastai\\nfrom sklearn.linear_model import LogisticRegression\\nimport seaborn as sns\\nimport pandas as pd\\nfrom sklearn.preprocessing import OneHotEncoder\\nfrom sklearn.feature_extraction.text import TfidfVectorizer\\nfrom statsmodels.tsa.arima_model import ARIMA\\nimport altair as alt\\nfrom sklearn.ensemble import GradientBoostingRegressor\\nimport plotly as py\\nimport sys\\nfrom sklearn.ensemble import GradientBoostingClassifier\\nfrom scipy import stats\\nimport cv2\\nfrom sklearn.model_selection import train_test_split\\nimport re\\nimport lightgbm as lgb\\nfrom PIL import Image\\nfrom sklearn.linear_model import LinearRegression\\nfrom sklearn.preprocessing import MinMaxScaler\\nfrom sklearn.preprocessing import LabelEncoder\\nimport tensorflow as tf\\nimport tqdm\\nimport pydot\\nfrom sklearn.linear_model import ElasticNetCV\\nfrom sklearn.linear_model import Lasso\\nfrom scipy import signal as sg\\nfrom sklearn.model_selection import GridSearchCV\\nimport plotly.express as px\\nimport torch\\nfrom pathlib import Path\\nfrom sklearn.linear_model import LassoCV\\nfrom sklearn.linear_model import ElasticNet\\nimport spacy\\nfrom sklearn.decomposition import PCA\\nfrom sklearn.model_selection import cross_val_score\\nimport statsmodels.api as sm\\nimport textblob\\nimport sklearn\\nfrom sklearn.model_selection import KFold\\nfrom sklearn import svm\\nimport imutils\\nimport statistics\\nfrom sklearn.feature_extraction.text import CountVectorizer\\nimport skimage\\nfrom sklearn.preprocessing import PolynomialFeatures\\nimport pickle\\nfrom openpyxl import load_workbook\\nfrom sklearn.cluster import KMeans\\nimport matplotlib.pyplot as plt\\nfrom sklearn.manifold import TSNE'); }\n",
              "    "
            ]
          },
          "metadata": {}
        },
        {
          "output_type": "execute_result",
          "data": {
            "text/plain": [
              "<matplotlib.axes._subplots.AxesSubplot at 0x7f3cb8581d00>"
            ]
          },
          "metadata": {},
          "execution_count": 37
        },
        {
          "output_type": "display_data",
          "data": {
            "text/plain": [
              "<Figure size 1080x576 with 2 Axes>"
            ],
            "image/png": "[encoded data removed]"
          },
          "metadata": {
            "needs_background": "light"
          }
        }
      ]
    },
    {
      "cell_type": "markdown",
      "source": [
        "#**Model Building**"
      ],
      "metadata": {
        "id": "167NWv1uyjOq"
      }
    },
    {
      "cell_type": "code",
      "source": [
        "y = traindf['ACTION']\n",
        "X = traindf.drop('ACTION', axis=1)  \n",
        "X_test = testdf.drop('id', axis=1)"
      ],
      "metadata": {
        "id": "k0hEPNfvyUlU"
      },
      "execution_count": 38,
      "outputs": []
    },
    {
      "cell_type": "code",
      "source": [
        "X_train, X_valid, y_train, y_valid = train_test_split(X, y, test_size=0.25, random_state=1)"
      ],
      "metadata": {
        "colab": {
          "base_uri": "https://localhost:8080/",
          "height": 17
        },
        "id": "DKLqSAAyzEEm",
        "outputId": "86b5bf11-ec30-4a64-e8cf-671b077eb696"
      },
      "execution_count": 39,
      "outputs": [
        {
          "output_type": "display_data",
          "data": {
            "text/plain": [
              "<IPython.core.display.Javascript object>"
            ],
            "application/javascript": [
              "\n",
              "        if (window._pyforest_update_imports_cell) { window._pyforest_update_imports_cell('import fastai\\nfrom sklearn.linear_model import LogisticRegression\\nimport seaborn as sns\\nimport pandas as pd\\nfrom sklearn.preprocessing import OneHotEncoder\\nfrom sklearn.feature_extraction.text import TfidfVectorizer\\nfrom statsmodels.tsa.arima_model import ARIMA\\nimport altair as alt\\nfrom sklearn.ensemble import GradientBoostingRegressor\\nimport plotly as py\\nimport sys\\nfrom sklearn.ensemble import GradientBoostingClassifier\\nfrom scipy import stats\\nimport cv2\\nfrom sklearn.model_selection import train_test_split\\nimport re\\nimport lightgbm as lgb\\nfrom PIL import Image\\nfrom sklearn.linear_model import LinearRegression\\nfrom sklearn.preprocessing import MinMaxScaler\\nfrom sklearn.preprocessing import LabelEncoder\\nimport tensorflow as tf\\nimport tqdm\\nimport pydot\\nfrom sklearn.linear_model import ElasticNetCV\\nfrom sklearn.linear_model import Lasso\\nfrom scipy import signal as sg\\nfrom sklearn.model_selection import GridSearchCV\\nimport plotly.express as px\\nimport torch\\nfrom pathlib import Path\\nfrom sklearn.linear_model import LassoCV\\nfrom sklearn.linear_model import ElasticNet\\nimport spacy\\nfrom sklearn.decomposition import PCA\\nfrom sklearn.model_selection import cross_val_score\\nimport statsmodels.api as sm\\nimport textblob\\nimport sklearn\\nfrom sklearn.model_selection import KFold\\nfrom sklearn import svm\\nimport imutils\\nimport statistics\\nfrom sklearn.feature_extraction.text import CountVectorizer\\nimport skimage\\nfrom sklearn.preprocessing import PolynomialFeatures\\nimport pickle\\nfrom openpyxl import load_workbook\\nfrom sklearn.cluster import KMeans\\nimport matplotlib.pyplot as plt\\nfrom sklearn.manifold import TSNE'); }\n",
              "    "
            ]
          },
          "metadata": {}
        }
      ]
    },
    {
      "cell_type": "code",
      "source": [
        "from catboost import CatBoostClassifier"
      ],
      "metadata": {
        "id": "UgTyqXe-zhdO"
      },
      "execution_count": 40,
      "outputs": []
    },
    {
      "cell_type": "code",
      "source": [
        "%%time\n",
        "parameters = {'loss_function':'Logloss',\n",
        "              'eval_metric':'AUC',\n",
        "              'verbose': 200,\n",
        "              'random_seed': 1\n",
        "             }\n",
        "catmodel_1 = CatBoostClassifier(**parameters)\n",
        "catmodel_1.fit(X_train, y_train,\n",
        "               eval_set=(X_valid, y_valid),\n",
        "               use_best_model=True\n",
        "               );"
      ],
      "metadata": {
        "colab": {
          "base_uri": "https://localhost:8080/"
        },
        "id": "Iy_3vjYuzvyn",
        "outputId": "1ebb5cb3-cb50-494a-a475-8c49124e393d"
      },
      "execution_count": 41,
      "outputs": [
        {
          "output_type": "stream",
          "name": "stdout",
          "text": [
            "Learning rate set to 0.069882\n",
            "0:\ttest: 0.5400959\tbest: 0.5400959 (0)\ttotal: 12.1ms\tremaining: 12.1s\n",
            "200:\ttest: 0.8020842\tbest: 0.8020842 (200)\ttotal: 5.56s\tremaining: 22.1s\n",
            "400:\ttest: 0.8237941\tbest: 0.8237941 (400)\ttotal: 11.7s\tremaining: 17.4s\n",
            "600:\ttest: 0.8328464\tbest: 0.8330283 (598)\ttotal: 17.1s\tremaining: 11.3s\n",
            "800:\ttest: 0.8366271\tbest: 0.8370599 (785)\ttotal: 19s\tremaining: 4.73s\n",
            "999:\ttest: 0.8417832\tbest: 0.8417832 (999)\ttotal: 21s\tremaining: 0us\n",
            "\n",
            "bestTest = 0.8417831567\n",
            "bestIteration = 999\n",
            "\n",
            "CPU times: user 18.2 s, sys: 4.71 s, total: 22.9 s\n",
            "Wall time: 21.3 s\n"
          ]
        },
        {
          "output_type": "execute_result",
          "data": {
            "text/plain": [
              "<catboost.core.CatBoostClassifier at 0x7f3cb96785e0>"
            ]
          },
          "metadata": {},
          "execution_count": 41
        }
      ]
    },
    {
      "cell_type": "markdown",
      "source": [
        "**In the above model CatBoost treated categorical features as numerical ones. Thus, the categories were ranked. We need to specify which features are categorical** "
      ],
      "metadata": {
        "id": "l3luAlEm1g3N"
      }
    },
    {
      "cell_type": "code",
      "source": [
        "categorical_features = list(range(X.shape[1]))\n",
        "print(categorical_features)"
      ],
      "metadata": {
        "colab": {
          "base_uri": "https://localhost:8080/"
        },
        "id": "YOXbcWi91JLg",
        "outputId": "1c866f92-ea63-46ee-ade7-02798eda6390"
      },
      "execution_count": 42,
      "outputs": [
        {
          "output_type": "stream",
          "name": "stdout",
          "text": [
            "[0, 1, 2, 3, 4, 5, 6, 7, 8]\n"
          ]
        }
      ]
    },
    {
      "cell_type": "code",
      "source": [
        "%%time\n",
        "parameters = {'loss_function':'Logloss',\n",
        "              'eval_metric':'AUC',\n",
        "              'cat_features':categorical_features,\n",
        "              'verbose': 200,\n",
        "              'random_seed': 1\n",
        "             }\n",
        "catmodel = CatBoostClassifier(**parameters)\n",
        "catmodel.fit(X_train, y_train,\n",
        "             eval_set=(X_valid, y_valid),\n",
        "             use_best_model=True\n",
        "            );"
      ],
      "metadata": {
        "colab": {
          "base_uri": "https://localhost:8080/"
        },
        "id": "g0jqjcJl2ykt",
        "outputId": "a672b073-398d-47f8-e2ab-0d3085a58bdc"
      },
      "execution_count": 43,
      "outputs": [
        {
          "output_type": "stream",
          "name": "stdout",
          "text": [
            "Learning rate set to 0.069882\n",
            "0:\ttest: 0.5637606\tbest: 0.5637606 (0)\ttotal: 63.2ms\tremaining: 1m 3s\n",
            "200:\ttest: 0.8955617\tbest: 0.8955872 (198)\ttotal: 13s\tremaining: 51.7s\n",
            "400:\ttest: 0.8985912\tbest: 0.8987220 (386)\ttotal: 27.1s\tremaining: 40.5s\n",
            "600:\ttest: 0.9004468\tbest: 0.9005457 (595)\ttotal: 41.7s\tremaining: 27.7s\n",
            "800:\ttest: 0.8997008\tbest: 0.9007469 (631)\ttotal: 56.3s\tremaining: 14s\n",
            "999:\ttest: 0.8985767\tbest: 0.9007469 (631)\ttotal: 1m 11s\tremaining: 0us\n",
            "\n",
            "bestTest = 0.9007468588\n",
            "bestIteration = 631\n",
            "\n",
            "Shrink model to first 632 iterations.\n",
            "CPU times: user 1min 59s, sys: 3.13 s, total: 2min 2s\n",
            "Wall time: 1min 11s\n"
          ]
        },
        {
          "output_type": "execute_result",
          "data": {
            "text/plain": [
              "<catboost.core.CatBoostClassifier at 0x7f3cb966e340>"
            ]
          },
          "metadata": {},
          "execution_count": 43
        }
      ]
    },
    {
      "cell_type": "markdown",
      "source": [
        "##Cross Validation"
      ],
      "metadata": {
        "id": "m8Q6Yz_t3lCe"
      }
    },
    {
      "cell_type": "code",
      "source": [
        "from catboost import cv, Pool\n",
        "\n",
        "parameters = {'loss_function':'Logloss',\n",
        "              'eval_metric':'AUC',\n",
        "              'verbose': 200,\n",
        "              'random_seed':1\n",
        "             }\n",
        "# pool for dataset processing.\n",
        "\n",
        "total_train_data = Pool(data=X, label=y, cat_features=categorical_features)\n",
        "\n",
        "scores = cv(pool=total_train_data, params=parameters, fold_count=4, seed=1,\n",
        "            shuffle=True, stratified=True)"
      ],
      "metadata": {
        "colab": {
          "base_uri": "https://localhost:8080/"
        },
        "id": "r7A5_M-a3LUh",
        "outputId": "d1311acb-5edc-47d7-e182-3d05b4693513"
      },
      "execution_count": 44,
      "outputs": [
        {
          "output_type": "stream",
          "name": "stdout",
          "text": [
            "Training on fold [0/4]\n",
            "0:\ttest: 0.5000000\tbest: 0.5000000 (0)\ttotal: 18.6ms\tremaining: 18.5s\n",
            "200:\ttest: 0.8948050\tbest: 0.8948050 (200)\ttotal: 13.6s\tremaining: 54.1s\n",
            "400:\ttest: 0.8993043\tbest: 0.8993043 (400)\ttotal: 28.4s\tremaining: 42.4s\n",
            "600:\ttest: 0.9019037\tbest: 0.9019037 (600)\ttotal: 43.7s\tremaining: 29s\n",
            "800:\ttest: 0.9027905\tbest: 0.9031492 (781)\ttotal: 58.6s\tremaining: 14.6s\n",
            "999:\ttest: 0.9036792\tbest: 0.9036792 (999)\ttotal: 1m 14s\tremaining: 0us\n",
            "\n",
            "bestTest = 0.9036791642\n",
            "bestIteration = 999\n",
            "\n",
            "Training on fold [1/4]\n",
            "0:\ttest: 0.5000000\tbest: 0.5000000 (0)\ttotal: 36.1ms\tremaining: 36s\n",
            "200:\ttest: 0.8835559\tbest: 0.8840146 (166)\ttotal: 12.7s\tremaining: 50.4s\n",
            "400:\ttest: 0.8852191\tbest: 0.8853875 (382)\ttotal: 27.9s\tremaining: 41.6s\n",
            "600:\ttest: 0.8859059\tbest: 0.8859447 (591)\ttotal: 43s\tremaining: 28.6s\n",
            "800:\ttest: 0.8860087\tbest: 0.8865844 (746)\ttotal: 58.1s\tremaining: 14.4s\n",
            "999:\ttest: 0.8841890\tbest: 0.8865844 (746)\ttotal: 1m 13s\tremaining: 0us\n",
            "\n",
            "bestTest = 0.8865843778\n",
            "bestIteration = 746\n",
            "\n",
            "Training on fold [2/4]\n",
            "0:\ttest: 0.5000000\tbest: 0.5000000 (0)\ttotal: 24.7ms\tremaining: 24.7s\n",
            "200:\ttest: 0.8762431\tbest: 0.8762994 (198)\ttotal: 16.2s\tremaining: 1m 4s\n",
            "400:\ttest: 0.8825299\tbest: 0.8825365 (399)\ttotal: 36.9s\tremaining: 55.1s\n",
            "600:\ttest: 0.8859397\tbest: 0.8859462 (593)\ttotal: 52.2s\tremaining: 34.7s\n",
            "800:\ttest: 0.8876071\tbest: 0.8876071 (800)\ttotal: 1m 8s\tremaining: 17.1s\n",
            "999:\ttest: 0.8890818\tbest: 0.8890895 (998)\ttotal: 1m 24s\tremaining: 0us\n",
            "\n",
            "bestTest = 0.8890894812\n",
            "bestIteration = 998\n",
            "\n",
            "Training on fold [3/4]\n",
            "0:\ttest: 0.5000000\tbest: 0.5000000 (0)\ttotal: 18ms\tremaining: 18s\n",
            "200:\ttest: 0.8848750\tbest: 0.8848750 (200)\ttotal: 13s\tremaining: 51.6s\n",
            "400:\ttest: 0.8886395\tbest: 0.8886395 (400)\ttotal: 28.7s\tremaining: 42.8s\n",
            "600:\ttest: 0.8917459\tbest: 0.8917475 (599)\ttotal: 43.8s\tremaining: 29.1s\n",
            "800:\ttest: 0.8926586\tbest: 0.8928882 (763)\ttotal: 58.8s\tremaining: 14.6s\n",
            "999:\ttest: 0.8919993\tbest: 0.8928882 (763)\ttotal: 1m 15s\tremaining: 0us\n",
            "\n",
            "bestTest = 0.892888207\n",
            "bestIteration = 763\n",
            "\n"
          ]
        }
      ]
    },
    {
      "cell_type": "code",
      "source": [
        "feature_imp = catmodel.get_feature_importance(prettified=True)\n",
        "feature_imp"
      ],
      "metadata": {
        "colab": {
          "base_uri": "https://localhost:8080/",
          "height": 328
        },
        "id": "MAwl16IrHYCE",
        "outputId": "6ff25162-d63f-4235-b5c2-cd6a8564a2d5"
      },
      "execution_count": 45,
      "outputs": [
        {
          "output_type": "execute_result",
          "data": {
            "text/plain": [
              "         Feature Id  Importances\n",
              "0          RESOURCE    19.191502\n",
              "1     ROLE_DEPTNAME    15.756340\n",
              "2            MGR_ID    15.621862\n",
              "3     ROLE_ROLLUP_2    13.129965\n",
              "4  ROLE_FAMILY_DESC    10.059007\n",
              "5        ROLE_TITLE     7.790703\n",
              "6       ROLE_FAMILY     6.412647\n",
              "7     ROLE_ROLLUP_1     6.224750\n",
              "8         ROLE_CODE     5.813223"
            ],
            "text/html": [
              "\n",
              "  <div id=\"df-d47f25e7-ea7c-43ad-9752-a43c82858e33\">\n",
              "    <div class=\"colab-df-container\">\n",
              "      <div>\n",
              "<style scoped>\n",
              "    .dataframe tbody tr th:only-of-type {\n",
              "        vertical-align: middle;\n",
              "    }\n",
              "\n",
              "    .dataframe tbody tr th {\n",
              "        vertical-align: top;\n",
              "    }\n",
              "\n",
              "    .dataframe thead th {\n",
              "        text-align: right;\n",
              "    }\n",
              "</style>\n",
              "<table border=\"1\" class=\"dataframe\">\n",
              "  <thead>\n",
              "    <tr style=\"text-align: right;\">\n",
              "      <th></th>\n",
              "      <th>Feature Id</th>\n",
              "      <th>Importances</th>\n",
              "    </tr>\n",
              "  </thead>\n",
              "  <tbody>\n",
              "    <tr>\n",
              "      <th>0</th>\n",
              "      <td>RESOURCE</td>\n",
              "      <td>19.191502</td>\n",
              "    </tr>\n",
              "    <tr>\n",
              "      <th>1</th>\n",
              "      <td>ROLE_DEPTNAME</td>\n",
              "      <td>15.756340</td>\n",
              "    </tr>\n",
              "    <tr>\n",
              "      <th>2</th>\n",
              "      <td>MGR_ID</td>\n",
              "      <td>15.621862</td>\n",
              "    </tr>\n",
              "    <tr>\n",
              "      <th>3</th>\n",
              "      <td>ROLE_ROLLUP_2</td>\n",
              "      <td>13.129965</td>\n",
              "    </tr>\n",
              "    <tr>\n",
              "      <th>4</th>\n",
              "      <td>ROLE_FAMILY_DESC</td>\n",
              "      <td>10.059007</td>\n",
              "    </tr>\n",
              "    <tr>\n",
              "      <th>5</th>\n",
              "      <td>ROLE_TITLE</td>\n",
              "      <td>7.790703</td>\n",
              "    </tr>\n",
              "    <tr>\n",
              "      <th>6</th>\n",
              "      <td>ROLE_FAMILY</td>\n",
              "      <td>6.412647</td>\n",
              "    </tr>\n",
              "    <tr>\n",
              "      <th>7</th>\n",
              "      <td>ROLE_ROLLUP_1</td>\n",
              "      <td>6.224750</td>\n",
              "    </tr>\n",
              "    <tr>\n",
              "      <th>8</th>\n",
              "      <td>ROLE_CODE</td>\n",
              "      <td>5.813223</td>\n",
              "    </tr>\n",
              "  </tbody>\n",
              "</table>\n",
              "</div>\n",
              "      <button class=\"colab-df-convert\" onclick=\"convertToInteractive('df-d47f25e7-ea7c-43ad-9752-a43c82858e33')\"\n",
              "              title=\"Convert this dataframe to an interactive table.\"\n",
              "              style=\"display:none;\">\n",
              "        \n",
              "  <svg xmlns=\"http://www.w3.org/2000/svg\" height=\"24px\"viewBox=\"0 0 24 24\"\n",
              "       width=\"24px\">\n",
              "    <path d=\"M0 0h24v24H0V0z\" fill=\"none\"/>\n",
              "    <path d=\"M18.56 5.44l.94 2.06.94-2.06 2.06-.94-2.06-.94-.94-2.06-.94 2.06-2.06.94zm-11 1L8.5 8.5l.94-2.06 2.06-.94-2.06-.94L8.5 2.5l-.94 2.06-2.06.94zm10 10l.94 2.06.94-2.06 2.06-.94-2.06-.94-.94-2.06-.94 2.06-2.06.94z\"/><path d=\"M17.41 7.96l-1.37-1.37c-.4-.4-.92-.59-1.43-.59-.52 0-1.04.2-1.43.59L10.3 9.45l-7.72 7.72c-.78.78-.78 2.05 0 2.83L4 21.41c.39.39.9.59 1.41.59.51 0 1.02-.2 1.41-.59l7.78-7.78 2.81-2.81c.8-.78.8-2.07 0-2.86zM5.41 20L4 18.59l7.72-7.72 1.47 1.35L5.41 20z\"/>\n",
              "  </svg>\n",
              "      </button>\n",
              "      \n",
              "  <style>\n",
              "    .colab-df-container {\n",
              "      display:flex;\n",
              "      flex-wrap:wrap;\n",
              "      gap: 12px;\n",
              "    }\n",
              "\n",
              "    .colab-df-convert {\n",
              "      background-color: #E8F0FE;\n",
              "      border: none;\n",
              "      border-radius: 50%;\n",
              "      cursor: pointer;\n",
              "      display: none;\n",
              "      fill: #1967D2;\n",
              "      height: 32px;\n",
              "      padding: 0 0 0 0;\n",
              "      width: 32px;\n",
              "    }\n",
              "\n",
              "    .colab-df-convert:hover {\n",
              "      background-color: #E2EBFA;\n",
              "      box-shadow: 0px 1px 2px rgba(60, 64, 67, 0.3), 0px 1px 3px 1px rgba(60, 64, 67, 0.15);\n",
              "      fill: #174EA6;\n",
              "    }\n",
              "\n",
              "    [theme=dark] .colab-df-convert {\n",
              "      background-color: #3B4455;\n",
              "      fill: #D2E3FC;\n",
              "    }\n",
              "\n",
              "    [theme=dark] .colab-df-convert:hover {\n",
              "      background-color: #434B5C;\n",
              "      box-shadow: 0px 1px 3px 1px rgba(0, 0, 0, 0.15);\n",
              "      filter: drop-shadow(0px 1px 2px rgba(0, 0, 0, 0.3));\n",
              "      fill: #FFFFFF;\n",
              "    }\n",
              "  </style>\n",
              "\n",
              "      <script>\n",
              "        const buttonEl =\n",
              "          document.querySelector('#df-d47f25e7-ea7c-43ad-9752-a43c82858e33 button.colab-df-convert');\n",
              "        buttonEl.style.display =\n",
              "          google.colab.kernel.accessAllowed ? 'block' : 'none';\n",
              "\n",
              "        async function convertToInteractive(key) {\n",
              "          const element = document.querySelector('#df-d47f25e7-ea7c-43ad-9752-a43c82858e33');\n",
              "          const dataTable =\n",
              "            await google.colab.kernel.invokeFunction('convertToInteractive',\n",
              "                                                     [key], {});\n",
              "          if (!dataTable) return;\n",
              "\n",
              "          const docLinkHtml = 'Like what you see? Visit the ' +\n",
              "            '<a target=\"_blank\" href=https://colab.research.google.com/notebooks/data_table.ipynb>data table notebook</a>'\n",
              "            + ' to learn more about interactive tables.';\n",
              "          element.innerHTML = '';\n",
              "          dataTable['output_type'] = 'display_data';\n",
              "          await google.colab.output.renderOutput(dataTable, element);\n",
              "          const docLink = document.createElement('div');\n",
              "          docLink.innerHTML = docLinkHtml;\n",
              "          element.appendChild(docLink);\n",
              "        }\n",
              "      </script>\n",
              "    </div>\n",
              "  </div>\n",
              "  "
            ]
          },
          "metadata": {},
          "execution_count": 45
        }
      ]
    },
    {
      "cell_type": "code",
      "source": [
        "from matplotlib import pyplot as plt\n",
        "import seaborn as sns\n",
        "\n",
        "plt.figure(figsize=(12,6))\n",
        "sns.barplot(x='Importances', y='Feature Id', data=feature_imp)\n",
        "plt.title('CatBoost features importance:')"
      ],
      "metadata": {
        "colab": {
          "base_uri": "https://localhost:8080/",
          "height": 421
        },
        "id": "93lNm-DsJoE2",
        "outputId": "c439747a-044e-42ed-d485-366c3b83f86f"
      },
      "execution_count": 46,
      "outputs": [
        {
          "output_type": "execute_result",
          "data": {
            "text/plain": [
              "Text(0.5, 1.0, 'CatBoost features importance:')"
            ]
          },
          "metadata": {},
          "execution_count": 46
        },
        {
          "output_type": "display_data",
          "data": {
            "text/plain": [
              "<Figure size 864x432 with 1 Axes>"
            ],
            "image/png": "[encoded data removed]"
          },
          "metadata": {
            "needs_background": "light"
          }
        }
      ]
    },
    {
      "cell_type": "code",
      "source": [
        "predictions = catmodel.predict_proba(X_test)"
      ],
      "metadata": {
        "id": "PprU-Yq1fNE4"
      },
      "execution_count": 47,
      "outputs": []
    },
    {
      "cell_type": "code",
      "source": [
        "predictions"
      ],
      "metadata": {
        "colab": {
          "base_uri": "https://localhost:8080/"
        },
        "id": "qh02rzYTfclB",
        "outputId": "aee38999-ba43-4884-f754-88aee92a2f3f"
      },
      "execution_count": 48,
      "outputs": [
        {
          "output_type": "execute_result",
          "data": {
            "text/plain": [
              "array([[0.22869066, 0.77130934],\n",
              "       [0.01378504, 0.98621496],\n",
              "       [0.00616092, 0.99383908],\n",
              "       ...,\n",
              "       [0.00909481, 0.99090519],\n",
              "       [0.06097107, 0.93902893],\n",
              "       [0.01370489, 0.98629511]])"
            ]
          },
          "metadata": {},
          "execution_count": 48
        }
      ]
    },
    {
      "cell_type": "code",
      "source": [
        "predictions = catmodel.predict(X_test)\n",
        "predictions"
      ],
      "metadata": {
        "colab": {
          "base_uri": "https://localhost:8080/"
        },
        "id": "B__hB8aJfgd3",
        "outputId": "9c5154ec-51b8-4efc-9b79-e4499c04a777"
      },
      "execution_count": 49,
      "outputs": [
        {
          "output_type": "execute_result",
          "data": {
            "text/plain": [
              "array([1, 1, 1, ..., 1, 1, 1])"
            ]
          },
          "metadata": {},
          "execution_count": 49
        }
      ]
    },
    {
      "cell_type": "code",
      "source": [
        "catmodel.score(X_valid, y_valid)"
      ],
      "metadata": {
        "colab": {
          "base_uri": "https://localhost:8080/"
        },
        "id": "TSLgEXQ6fqPL",
        "outputId": "e26631cf-a383-4e35-bcb0-3ca21e7cb37a"
      },
      "execution_count": 50,
      "outputs": [
        {
          "output_type": "execute_result",
          "data": {
            "text/plain": [
              "0.9571585499816917"
            ]
          },
          "metadata": {},
          "execution_count": 50
        }
      ]
    },
    {
      "cell_type": "code",
      "source": [
        "traindf['ACTION'].value_counts()"
      ],
      "metadata": {
        "colab": {
          "base_uri": "https://localhost:8080/"
        },
        "id": "-jeo06Jlfy76",
        "outputId": "a28d035d-0f40-4d7e-b419-56a3384b0861"
      },
      "execution_count": 51,
      "outputs": [
        {
          "output_type": "execute_result",
          "data": {
            "text/plain": [
              "1    30872\n",
              "0     1897\n",
              "Name: ACTION, dtype: int64"
            ]
          },
          "metadata": {},
          "execution_count": 51
        }
      ]
    },
    {
      "cell_type": "markdown",
      "source": [
        "Our target columns contains 30872 \"1\" and only 1897 \"0\". This is an indication of data imbalance. We need to deal with data imbalance."
      ],
      "metadata": {
        "id": "1h6FEypqgG_R"
      }
    }
  ]
}